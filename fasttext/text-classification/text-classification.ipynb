{
 "cells": [
  {
   "cell_type": "markdown",
   "metadata": {},
   "source": [
    "## Text Classification\n",
    "\n",
    "BentoML is an open-source framework for machine learning **model serving**, aiming to **bridge the gap between Data Science and DevOps.**\n",
    "\n",
    "Data Scientists can easily package their models trained with any ML framework using BentoMl and reproduce the model for serving in production. BentoML helps with managing packaged models in the BentoML format, and allows DevOps to deploy them as online API serving endpoints or offline batch inference jobs, on any cloud platform.\n",
    "\n",
    "Before reading this example project, be sure to check out the [Getting started guide](https://github.com/bentoml/BentoML/blob/master/guides/quick-start/bentoml-quick-start-guide.ipynb) to learn about the basic concepts in BentoML.\n",
    "\n",
    "\n",
    "FastText is a library for efficient learning of word representations and sentence classification.\n",
    "\n",
    "The goal of text classification is to assign documents (such as emails, posts, text messages, product reviews, etc...) to one or multiple categories. Such categories can be review scores, spam v.s. non-spam, or the language in which the document was typed. Nowadays, the dominant approach to build such classifiers is machine learning, that is learning classification rules from examples. In order to build such classifiers, we need labeled data, which consists of documents and their corresponding categories (or tags, or labels).\n",
    "\n",
    "As an example, it builds a classifier which automatically classifies stackexchange questions about cooking into one of several possible tags, such as `pot`, `bowl` or `baking`.\n",
    "\n",
    "This example notebook is base on the guide from fasttext: https://fasttext.cc/docs/en/supervised-tutorial.html\n",
    "\n",
    "![Impression](https://www.google-analytics.com/collect?v=1&tid=UA-112879361-3&cid=555&t=event&ec=fasttext&ea=fasttext-text-classification&dt=fasttext-text-classification)"
   ]
  },
  {
   "cell_type": "code",
   "execution_count": 1,
   "metadata": {},
   "outputs": [],
   "source": [
    "%reload_ext autoreload\n",
    "%autoreload 2\n",
    "%matplotlib inline\n",
    "\n",
    "import warnings\n",
    "warnings.filterwarnings(\"ignore\")"
   ]
  },
  {
   "cell_type": "code",
   "execution_count": 3,
   "metadata": {
    "scrolled": true
   },
   "outputs": [
    {
     "name": "stdout",
     "output_type": "stream",
     "text": [
      "Requirement already satisfied: fasttext in /usr/local/anaconda3/envs/dev-py3/lib/python3.7/site-packages (0.9.2)\n",
      "Requirement already satisfied: numpy in /usr/local/anaconda3/envs/dev-py3/lib/python3.7/site-packages (from fasttext) (1.16.4)\n",
      "Requirement already satisfied: pybind11>=2.2 in /usr/local/anaconda3/envs/dev-py3/lib/python3.7/site-packages (from fasttext) (2.5.0)\n",
      "Requirement already satisfied: setuptools>=0.7.0 in /usr/local/anaconda3/envs/dev-py3/lib/python3.7/site-packages (from fasttext) (45.1.0.post20200119)\n"
     ]
    }
   ],
   "source": [
    "!pip install -q bentoml \"fasttext==0.9.2\""
   ]
  },
  {
   "cell_type": "markdown",
   "metadata": {},
   "source": [
    "### Prepare data"
   ]
  },
  {
   "cell_type": "code",
   "execution_count": 3,
   "metadata": {},
   "outputs": [
    {
     "name": "stdout",
     "output_type": "stream",
     "text": [
      "  % Total    % Received % Xferd  Average Speed   Time    Time     Time  Current\n",
      "                                 Dload  Upload   Total   Spent    Left  Speed\n",
      "100  446k  100  446k    0     0   883k      0 --:--:-- --:--:-- --:--:--  883k\n",
      "x cooking.stackexchange.id\n",
      "x cooking.stackexchange.txt\n",
      "x readme.txt\n"
     ]
    }
   ],
   "source": [
    "!curl https://dl.fbaipublicfiles.com/fasttext/data/cooking.stackexchange.tar.gz --output cooking.stackexchange.tar.gz && tar xvzf cooking.stackexchange.tar.gz"
   ]
  },
  {
   "cell_type": "code",
   "execution_count": 4,
   "metadata": {},
   "outputs": [
    {
     "name": "stdout",
     "output_type": "stream",
     "text": [
      "__label__sauce __label__cheese How much does potato starch affect a cheese sauce recipe?\r\n",
      "__label__food-safety __label__acidity Dangerous pathogens capable of growing in acidic environments\r\n",
      "__label__cast-iron __label__stove How do I cover up the white spots on my cast iron stove?\r\n",
      "__label__restaurant Michelin Three Star Restaurant; but if the chef is not there\r\n",
      "__label__knife-skills __label__dicing Without knife skills, how can I quickly and accurately dice vegetables?\r\n",
      "__label__storage-method __label__equipment __label__bread What's the purpose of a bread box?\r\n",
      "__label__baking __label__food-safety __label__substitutions __label__peanuts how to seperate peanut oil from roasted peanuts at home?\r\n",
      "__label__chocolate American equivalent for British chocolate terms\r\n",
      "__label__baking __label__oven __label__convection Fan bake vs bake\r\n",
      "__label__sauce __label__storage-lifetime __label__acidity __label__mayonnaise Regulation and balancing of readymade packed mayonnaise and other sauces\r\n"
     ]
    }
   ],
   "source": [
    "!head cooking.stackexchange.txt"
   ]
  },
  {
   "cell_type": "code",
   "execution_count": 5,
   "metadata": {},
   "outputs": [],
   "source": [
    "!head -n 12404 cooking.stackexchange.txt > cooking.train\n",
    "!tail -n 3000 cooking.stackexchange.txt > cooking.valid"
   ]
  },
  {
   "cell_type": "markdown",
   "metadata": {},
   "source": [
    "### Train model"
   ]
  },
  {
   "cell_type": "code",
   "execution_count": 6,
   "metadata": {},
   "outputs": [],
   "source": [
    "import fasttext"
   ]
  },
  {
   "cell_type": "code",
   "execution_count": 7,
   "metadata": {},
   "outputs": [],
   "source": [
    "model = fasttext.train_supervised(input=\"cooking.train\")"
   ]
  },
  {
   "cell_type": "markdown",
   "metadata": {},
   "source": [
    "### Define and save BentoService"
   ]
  },
  {
   "cell_type": "code",
   "execution_count": 14,
   "metadata": {},
   "outputs": [
    {
     "name": "stdout",
     "output_type": "stream",
     "text": [
      "Overwriting text_classification.py\n"
     ]
    }
   ],
   "source": [
    "%%writefile text_classification.py\n",
    "\n",
    "from bentoml import env, artifacts, BentoService, api\n",
    "from bentoml.frameworks.fasttext import FasttextModelArtifact\n",
    "from bentoml.adapters import JsonInput\n",
    "\n",
    "@env(auto_pip_dependencies=True)\n",
    "@artifacts([FasttextModelArtifact('model')])\n",
    "class FasttextClassification(BentoService):\n",
    "    \n",
    "    @api(input=JsonInput())\n",
    "    def predict(self, json_list):\n",
    "        input = [i['text'] for i in json_list]\n",
    "        result = self.artifacts.model.predict(input)\n",
    "        # return top result\n",
    "        prediction_result = [i[0].replace('__label__', '') for i in result[0]]\n",
    "        return prediction_result"
   ]
  },
  {
   "cell_type": "code",
   "execution_count": 15,
   "metadata": {},
   "outputs": [
    {
     "name": "stdout",
     "output_type": "stream",
     "text": [
      "[2020-09-08 17:40:46,255] INFO - Detected non-PyPI-released BentoML installed, copying local BentoML modulefiles to target saved bundle path..\n"
     ]
    },
    {
     "name": "stderr",
     "output_type": "stream",
     "text": [
      "warning: no previously-included files matching '*~' found anywhere in distribution\n",
      "warning: no previously-included files matching '*.pyo' found anywhere in distribution\n",
      "warning: no previously-included files matching '.git' found anywhere in distribution\n",
      "warning: no previously-included files matching '.ipynb_checkpoints' found anywhere in distribution\n",
      "warning: no previously-included files matching '__pycache__' found anywhere in distribution\n",
      "no previously-included directories found matching 'e2e_tests'\n",
      "no previously-included directories found matching 'tests'\n",
      "no previously-included directories found matching 'benchmark'\n"
     ]
    },
    {
     "name": "stdout",
     "output_type": "stream",
     "text": [
      "UPDATING BentoML-0.8.6+36.gab94ebfb/bentoml/_version.py\n",
      "set BentoML-0.8.6+36.gab94ebfb/bentoml/_version.py to '0.8.6+36.gab94ebfb'\n",
      "[2020-09-08 17:40:51,056] INFO - BentoService bundle 'FasttextClassification:20200908174046_70E6AC' saved to: /Users/bozhaoyu/bentoml/repository/FasttextClassification/20200908174046_70E6AC\n"
     ]
    }
   ],
   "source": [
    "from text_classification import FasttextClassification\n",
    "\n",
    "svc = FasttextClassification()\n",
    "svc.pack('model', model)\n",
    "\n",
    "saved_path = svc.save()"
   ]
  },
  {
   "cell_type": "markdown",
   "metadata": {},
   "source": [
    "## REST API Model Serving\n",
    "\n",
    "\n",
    "To start a REST API model server with the BentoService saved above, use the bentoml serve command:"
   ]
  },
  {
   "cell_type": "code",
   "execution_count": 13,
   "metadata": {},
   "outputs": [
    {
     "name": "stdout",
     "output_type": "stream",
     "text": [
      "[2020-05-07 14:06:25,817] WARNING - BentoML local changes detected - Local BentoML repository including all code changes will be bundled together with the BentoService bundle. When used with docker, the base docker image will be default to same version as last PyPI release at version: 0.7.4. You can also force bentoml to use a specific version for deploying your BentoService bundle, by setting the config 'core/bentoml_deploy_version' to a pinned version or your custom BentoML on github, e.g.:'bentoml_deploy_version = git+https://github.com/{username}/bentoml.git@{branch}'\n",
      "[2020-05-07 14:06:25,836] WARNING - Saved BentoService bundle version mismatch: loading BentoServie bundle create with BentoML version 0.7.4,  but loading from BentoML version 0.7.4+8.g496f22a\n",
      "[2020-05-07 14:06:25,849] WARNING - BentoML local changes detected - Local BentoML repository including all code changes will be bundled together with the BentoService bundle. When used with docker, the base docker image will be default to same version as last PyPI release at version: 0.7.4. You can also force bentoml to use a specific version for deploying your BentoService bundle, by setting the config 'core/bentoml_deploy_version' to a pinned version or your custom BentoML on github, e.g.:'bentoml_deploy_version = git+https://github.com/{username}/bentoml.git@{branch}'\n",
      "Warning : `load_model` does not return WordVectorModel or SupervisedModel any more, but a `FastText` object which is very similar.\n",
      "[2020-05-07 14:06:25,874] WARNING - BentoML local changes detected - Local BentoML repository including all code changes will be bundled together with the BentoService bundle. When used with docker, the base docker image will be default to same version as last PyPI release at version: 0.7.4. You can also force bentoml to use a specific version for deploying your BentoService bundle, by setting the config 'core/bentoml_deploy_version' to a pinned version or your custom BentoML on github, e.g.:'bentoml_deploy_version = git+https://github.com/{username}/bentoml.git@{branch}'\n",
      " * Serving Flask app \"FasttextClassification\" (lazy loading)\n",
      " * Environment: production\n",
      "\u001b[31m   WARNING: This is a development server. Do not use it in a production deployment.\u001b[0m\n",
      "\u001b[2m   Use a production WSGI server instead.\u001b[0m\n",
      " * Debug mode: off\n",
      " * Running on http://127.0.0.1:5000/ (Press CTRL+C to quit)\n",
      "127.0.0.1 - - [07/May/2020 14:06:54] \"\u001b[37mPOST /predict HTTP/1.1\u001b[0m\" 200 -\n",
      "^C\n"
     ]
    }
   ],
   "source": [
    "!bentoml serve {saved_path}"
   ]
  },
  {
   "cell_type": "markdown",
   "metadata": {},
   "source": [
    "If you are running this notebook from Google Colab, you can start the dev server with `--run-with-ngrok` option, to gain acccess to the API endpoint via a public endpoint managed by [ngrok](https://ngrok.com/):"
   ]
  },
  {
   "cell_type": "code",
   "execution_count": null,
   "metadata": {},
   "outputs": [],
   "source": [
    "!bentoml serve FasttextClassification:latest --run-with-ngrok"
   ]
  },
  {
   "cell_type": "markdown",
   "metadata": {},
   "source": [
    "Open http://127.0.0.1:5000 to see more information about the REST APIs server in your\n",
    "browser.\n",
    "\n",
    "\n",
    "### Send prediction requeset to the REST API server\n",
    "\n",
    "Navigate to parent directory of the notebook(so you have reference to the `test.jpg` image), and run the following `curl` command to send the image to REST API server and get a prediction result:\n",
    "\n",
    "```\n",
    "curl -X POST \\\n",
    "  http://localhost:5000/predict \\\n",
    "  -H 'Content-Type: application/json' \\\n",
    "  -d '{\"text\": \"Which baking dish is best to bake a banana bread ?\"}'\n",
    "```"
   ]
  },
  {
   "cell_type": "markdown",
   "metadata": {},
   "source": [
    "## Containerize model server with Docker\n",
    "\n",
    "\n",
    "One common way of distributing this model API server for production deployment, is via Docker containers. And BentoML provides a convenient way to do that.\n",
    "\n",
    "Note that docker is **not available in Google Colab**. You will need to download and run this notebook locally to try out this containerization with docker feature.\n",
    "\n",
    "If you already have docker configured, simply run the follow command to product a docker container serving the IrisClassifier prediction service created above:"
   ]
  },
  {
   "cell_type": "code",
   "execution_count": 26,
   "metadata": {
    "scrolled": false
   },
   "outputs": [
    {
     "name": "stdout",
     "output_type": "stream",
     "text": [
      "[2020-09-08 17:51:57,580] INFO - Getting latest version FasttextClassification:20200908174046_70E6AC\n",
      "\u001b[39mFound Bento: /Users/bozhaoyu/bentoml/repository/FasttextClassification/20200908174046_70E6AC\u001b[0m\n",
      "[2020-09-08 17:51:57,630] WARNING - Using BentoML installed in `editable` model, the local BentoML repository including all code changes will be packaged together with saved bundle created, under the './bundled_pip_dependencies' directory of the saved bundle.\n",
      "[2020-09-08 17:51:57,647] WARNING - Saved BentoService bundle version mismatch: loading BentoService bundle create with BentoML version 0.8.6, but loading from BentoML version 0.8.6+36.gab94ebfb\n",
      "\u001b[39mTag not specified, using tag parsed from BentoService: 'fasttextclassification:20200908174046_70E6AC'\u001b[0m\n",
      "Building Docker image fasttextclassification:20200908174046_70E6AC from FasttextClassification:latest \n",
      "-we in here\n",
      "processed docker file\n",
      "(None, None)\n",
      "root in create archive /Users/bozhaoyu/bentoml/repository/FasttextClassification/20200908174046_70E6AC ['Dockerfile', 'FasttextClassification', 'FasttextClassification/__init__.py', 'FasttextClassification/__pycache__', 'FasttextClassification/__pycache__/text_classification.cpython-37.pyc', 'FasttextClassification/artifacts', 'FasttextClassification/artifacts/__init__.py', 'FasttextClassification/artifacts/model', 'FasttextClassification/bentoml.yml', 'FasttextClassification/text_classification.py', 'MANIFEST.in', 'README.md', 'bentoml-init.sh', 'bentoml.yml', 'bundled_pip_dependencies', 'bundled_pip_dependencies/BentoML-0.8.6+36.gab94ebfb.tar.gz', 'docker-entrypoint.sh', 'environment.yml', 'requirements.txt', 'setup.py']\n",
      "about to build\n",
      "about to upgrade params\n",
      "check each param and update\n",
      "if use config proxy\n",
      "if buildargs\n",
      "if shmsize\n",
      "if labels\n",
      "if cache from\n",
      "if target\n",
      "if network_mode\n",
      "if squash\n",
      "if extra hosts is not None\n",
      "if platform is not None\n",
      "if isolcation is not None\n",
      "if context is not None\n",
      "setting auth {'Content-Type': 'application/tar'}\n",
      "\b-docker build <tempfile._TemporaryFileWrapper object at 0x7fe0d1590c88> {'t': 'fasttextclassification:20200908174046_70E6AC', 'remote': None, 'q': False, 'nocache': False, 'rm': False, 'forcerm': False, 'pull': False, 'dockerfile': (None, None)}\n",
      "\b-docker response <Response [200]>\n",
      "context closes\n",
      "print responses\n",
      "\u001b[39mStep 1/15 : FROM bentoml/model-server:0.8.6\u001b[0m\n",
      "\b-\u001b[39m ---> 71644b758bed\u001b[0m\n",
      "\u001b[39mStep 2/15 : COPY . /bento\u001b[0m\n",
      "\b|\u001b[39m ---> 53618ccd403f\u001b[0m\n",
      "\u001b[39mStep 3/15 : WORKDIR /bento\u001b[0m\n",
      "\b-\u001b[39m ---> Running in 9c5ad82258bd\u001b[0m\n",
      "\b/\u001b[39m ---> 138b711fc3e0\u001b[0m\n",
      "\u001b[39mStep 4/15 : ARG PIP_INDEX_URL=https://pypi.python.org/simple/\u001b[0m\n",
      "\b\\\u001b[39m ---> Running in bc44aa675a9c\u001b[0m\n",
      "\b-\u001b[39m ---> 7f961fd63484\u001b[0m\n",
      "\u001b[39mStep 5/15 : ARG PIP_TRUSTED_HOST=pypi.python.org\u001b[0m\n",
      "\b|\u001b[39m ---> Running in 8ef3beab8568\u001b[0m\n",
      "\b-\u001b[39m ---> 123509d58e30\u001b[0m\n",
      "\u001b[39mStep 6/15 : ENV PIP_INDEX_URL $PIP_INDEX_URL\u001b[0m\n",
      "\b/\u001b[39m ---> Running in 174778c618b4\u001b[0m\n",
      "\b|\u001b[39m ---> 4ceda7b702c1\u001b[0m\n",
      "\u001b[39mStep 7/15 : ENV PIP_TRUSTED_HOST $PIP_TRUSTED_HOST\u001b[0m\n",
      "\b\\\u001b[39m ---> Running in 3df733bb450a\u001b[0m\n",
      "\b/\u001b[39m ---> 0450bedeec41\u001b[0m\n",
      "\u001b[39mStep 8/15 : RUN chmod +x /bento/bentoml-init.sh\u001b[0m\n",
      "\b|\u001b[39m ---> Running in b2e7f0c40e08\u001b[0m\n",
      "\b-\u001b[39m ---> 4dc74a1bed64\u001b[0m\n",
      "\u001b[39mStep 9/15 : RUN if [ -f /bento/bentoml-init.sh ]; then bash -c /bento/bentoml-init.sh; fi\u001b[0m\n",
      "\b/\u001b[39m ---> Running in 040dd68a5b20\u001b[0m\n",
      "\b/\u001b[39m\u001b[91m+++ dirname /bento/bentoml-init.sh\n",
      "\u001b[0m\u001b[0m\n",
      "\u001b[39m\u001b[91m++ cd /bento\n",
      "++ pwd -P\n",
      "+ SAVED_BUNDLE_PATH=/bento\n",
      "+ cd /bento\n",
      "\u001b[0m\u001b[0m\n",
      "\u001b[39m\u001b[91m+ '[' -f ./setup.sh ']'\n",
      "+ command -v conda\n",
      "\u001b[0m\u001b[0m\n",
      "\u001b[39m\u001b[91m+ echo 'Updating conda base environment with environment.yml'\n",
      "+ conda env update -n base -f ./environment.yml\n",
      "\u001b[0m\u001b[0m\n",
      "\u001b[39mUpdating conda base environment with environment.yml\u001b[0m\n",
      "\b/\u001b[39mCollecting package metadata (repodata.json): ...working... \u001b[0m\n",
      "\b-\u001b[39mdone\u001b[0m\n",
      "\u001b[39mSolving environment: ...working... \u001b[0m\n",
      "\b-\u001b[39mdone\u001b[0m\n",
      "\u001b[39m\n",
      "Downloading and Extracting Packages\n",
      "python-3.7.3         | 32.1 MB   |            |   0% \u001b[0m\n",
      "python-3.7.3         | 32.1 MB   |            |   0% \u001b[0m\n",
      "python-3.7.3         | 32.1 MB   | 2          |   2% \u001b[0m\n",
      "python-3.7.3         | 32.1 MB   | 6          |   7% \u001b[0m\n",
      "python-3.7.3         | 32.1 MB   | #3         |  13% \u001b[0m\n",
      "python-3.7.3         | 32.1 MB   | ##1        |  21% \u001b[0m\n",
      "python-3.7.3         | 32.1 MB   | ##9        |  29% \u001b[0m\n",
      "python-3.7.3         | 32.1 MB   | ###7       |  37% \u001b[0m\n",
      "python-3.7.3         | 32.1 MB   | ####5      |  46% \u001b[0m\n",
      "python-3.7.3         | 32.1 MB   | #####4     |  55% \u001b[0m\n",
      "python-3.7.3         | 32.1 MB   | ######2    |  62% \u001b[0m\n",
      "python-3.7.3         | 32.1 MB   | #######2   |  72% \u001b[0m\n",
      "python-3.7.3         | 32.1 MB   | ########   |  80% \u001b[0m\n",
      "python-3.7.3         | 32.1 MB   | ########8  |  88% \u001b[0m\n",
      "python-3.7.3         | 32.1 MB   | #########4 |  95% \u001b[0m\n",
      "python-3.7.3         | 32.1 MB   | ########## | 100% \u001b[0m\n",
      "\u001b[39m\n",
      "pip-20.2.3           | 1.1 MB    |            |   0% \u001b[0m\n",
      "pip-20.2.3           | 1.1 MB    | 1          |   1% \u001b[0m\n",
      "pip-20.2.3           | 1.1 MB    | ########3  |  83% \u001b[0m\n",
      "pip-20.2.3           | 1.1 MB    | ########## | 100% \u001b[0m\n",
      "\u001b[39m\n",
      "python_abi-3.7       | 4 KB      |            |   0% \u001b[0m\n",
      "python_abi-3.7       | 4 KB      | ########## | 100% \u001b[0m\n",
      "\u001b[39m\n",
      "openssl-1.1.1g       | 2.1 MB    |            |   0% \u001b[0m\n",
      "openssl-1.1.1g       | 2.1 MB    | ##7        |  27% \u001b[0m\n",
      "openssl-1.1.1g       | 2.1 MB    | ########1  |  81% \u001b[0m\n",
      "openssl-1.1.1g       | 2.1 MB    | ########## | 100% \u001b[0m\n",
      "\u001b[39m\n",
      "ca-certificates-2020 | 145 KB    |            |   0% \u001b[0m\n",
      "ca-certificates-2020 | 145 KB    | ########## | 100% \u001b[0m\n",
      "\u001b[39m\n",
      "certifi-2020.6.20    | 151 KB    |            |   0% \u001b[0m\n",
      "certifi-2020.6.20    | 151 KB    | ########## | 100% \u001b[0m\n",
      "\u001b[39m\n",
      "Preparing transaction: \u001b[0m\n",
      "\u001b[39m...working... \u001b[0m\n",
      "\b|\u001b[39mdone\u001b[0m\n",
      "\u001b[39mVerifying transaction: \u001b[0m\n",
      "\u001b[39m...working... \u001b[0m\n",
      "\b-\u001b[39mdone\u001b[0m\n",
      "\u001b[39mExecuting transaction: \u001b[0m\n",
      "\u001b[39m...working... \u001b[0m\n",
      "\b|\u001b[39mdone\u001b[0m\n",
      "\b\\\u001b[39m#\n",
      "# To activate this environment, use\n",
      "#\n",
      "#     $ conda activate base\n",
      "#\n",
      "# To deactivate an active environment, use\n",
      "#\n",
      "#     $ conda deactivate\u001b[0m\n",
      "\u001b[39m\u001b[91m\n",
      "\n",
      "==> WARNING: A newer version of conda exists. <==\n",
      "  current version: 4.8.2\n",
      "  latest version: 4.8.4\n",
      "\n",
      "Please update conda by running\n",
      "\n",
      "    $ conda update -n base -c defaults conda\n",
      "\n",
      "\n",
      "\u001b[0m\u001b[0m\n",
      "\b\\\u001b[39m\u001b[91m+ pip install -r ./requirements.txt --no-cache-dir\n",
      "\u001b[0m\u001b[0m\n",
      "\b-\u001b[39mLooking in indexes: https://pypi.python.org/simple/\u001b[0m\n",
      "\b-\u001b[39mCollecting fasttext\u001b[0m\n",
      "\b/\u001b[39m  Downloading fasttext-0.9.2.tar.gz (68 kB)\u001b[0m\n",
      "\b/\u001b[39mRequirement already satisfied: bentoml==0.8.6 in /opt/conda/lib/python3.7/site-packages (from -r ./requirements.txt (line 2)) (0.8.6)\u001b[0m\n",
      "\b\\\u001b[39mRequirement already satisfied: pybind11>=2.2 in /opt/conda/lib/python3.7/site-packages (from fasttext->-r ./requirements.txt (line 1)) (2.5.0)\u001b[0m\n",
      "\b-\u001b[39mRequirement already satisfied: setuptools>=0.7.0 in /opt/conda/lib/python3.7/site-packages (from fasttext->-r ./requirements.txt (line 1)) (45.2.0.post20200210)\u001b[0m\n",
      "\u001b[39mRequirement already satisfied: numpy in /opt/conda/lib/python3.7/site-packages (from fasttext->-r ./requirements.txt (line 1)) (1.19.1)\u001b[0m\n",
      "\u001b[39mRequirement already satisfied: humanfriendly in /opt/conda/lib/python3.7/site-packages (from bentoml==0.8.6->-r ./requirements.txt (line 2)) (8.2)\u001b[0m\n",
      "\u001b[39mRequirement already satisfied: tabulate in /opt/conda/lib/python3.7/site-packages (from bentoml==0.8.6->-r ./requirements.txt (line 2)) (0.8.7)\u001b[0m\n",
      "\u001b[39mRequirement already satisfied: docker in /opt/conda/lib/python3.7/site-packages (from bentoml==0.8.6->-r ./requirements.txt (line 2)) (4.3.1)\u001b[0m\n",
      "\u001b[39mRequirement already satisfied: alembic in /opt/conda/lib/python3.7/site-packages (from bentoml==0.8.6->-r ./requirements.txt (line 2)) (1.4.2)\u001b[0m\n",
      "\u001b[39mRequirement already satisfied: prometheus-client in /opt/conda/lib/python3.7/site-packages (from bentoml==0.8.6->-r ./requirements.txt (line 2)) (0.8.0)\u001b[0m\n",
      "\u001b[39mRequirement already satisfied: click>=7.0 in /opt/conda/lib/python3.7/site-packages (from bentoml==0.8.6->-r ./requirements.txt (line 2)) (7.1.2)\u001b[0m\n",
      "\u001b[39mRequirement already satisfied: multidict in /opt/conda/lib/python3.7/site-packages (from bentoml==0.8.6->-r ./requirements.txt (line 2)) (4.7.6)\u001b[0m\n",
      "\u001b[39mRequirement already satisfied: sqlalchemy-utils in /opt/conda/lib/python3.7/site-packages (from bentoml==0.8.6->-r ./requirements.txt (line 2)) (0.36.8)\u001b[0m\n"
     ]
    },
    {
     "name": "stdout",
     "output_type": "stream",
     "text": [
      "\b/\u001b[39mRequirement already satisfied: cerberus in /opt/conda/lib/python3.7/site-packages (from bentoml==0.8.6->-r ./requirements.txt (line 2)) (1.3.2)\u001b[0m\n",
      "\u001b[39mRequirement already satisfied: configparser in /opt/conda/lib/python3.7/site-packages (from bentoml==0.8.6->-r ./requirements.txt (line 2)) (5.0.0)\u001b[0m\n",
      "\u001b[39mRequirement already satisfied: packaging in /opt/conda/lib/python3.7/site-packages (from bentoml==0.8.6->-r ./requirements.txt (line 2)) (20.4)\u001b[0m\n",
      "\u001b[39mRequirement already satisfied: psutil in /opt/conda/lib/python3.7/site-packages (from bentoml==0.8.6->-r ./requirements.txt (line 2)) (5.7.2)\u001b[0m\n",
      "\u001b[39mRequirement already satisfied: python-json-logger in /opt/conda/lib/python3.7/site-packages (from bentoml==0.8.6->-r ./requirements.txt (line 2)) (0.1.11)\u001b[0m\n",
      "\u001b[39mRequirement already satisfied: flask in /opt/conda/lib/python3.7/site-packages (from bentoml==0.8.6->-r ./requirements.txt (line 2)) (1.1.2)\u001b[0m\n",
      "\b|\u001b[39mRequirement already satisfied: py-zipkin in /opt/conda/lib/python3.7/site-packages (from bentoml==0.8.6->-r ./requirements.txt (line 2)) (0.20.0)\u001b[0m\n",
      "\u001b[39mRequirement already satisfied: aiohttp in /opt/conda/lib/python3.7/site-packages (from bentoml==0.8.6->-r ./requirements.txt (line 2)) (3.6.2)\u001b[0m\n",
      "\u001b[39mRequirement already satisfied: grpcio<=1.27.2 in /opt/conda/lib/python3.7/site-packages (from bentoml==0.8.6->-r ./requirements.txt (line 2)) (1.27.2)\u001b[0m\n",
      "\u001b[39mRequirement already satisfied: sqlalchemy>=1.3.0 in /opt/conda/lib/python3.7/site-packages (from bentoml==0.8.6->-r ./requirements.txt (line 2)) (1.3.19)\u001b[0m\n",
      "\u001b[39mRequirement already satisfied: protobuf>=3.6.0 in /opt/conda/lib/python3.7/site-packages (from bentoml==0.8.6->-r ./requirements.txt (line 2)) (3.13.0)\u001b[0m\n",
      "\u001b[39mRequirement already satisfied: python-dateutil<2.8.1,>=2.1 in /opt/conda/lib/python3.7/site-packages (from bentoml==0.8.6->-r ./requirements.txt (line 2)) (2.8.0)\u001b[0m\n",
      "\u001b[39mRequirement already satisfied: requests in /opt/conda/lib/python3.7/site-packages (from bentoml==0.8.6->-r ./requirements.txt (line 2)) (2.22.0)\u001b[0m\n",
      "\u001b[39mRequirement already satisfied: certifi in /opt/conda/lib/python3.7/site-packages (from bentoml==0.8.6->-r ./requirements.txt (line 2)) (2020.6.20)\u001b[0m\n",
      "\u001b[39mRequirement already satisfied: boto3 in /opt/conda/lib/python3.7/site-packages (from bentoml==0.8.6->-r ./requirements.txt (line 2)) (1.14.48)\u001b[0m\n",
      "\u001b[39mRequirement already satisfied: gunicorn in /opt/conda/lib/python3.7/site-packages (from bentoml==0.8.6->-r ./requirements.txt (line 2)) (20.0.4)\u001b[0m\n",
      "\u001b[39mRequirement already satisfied: ruamel.yaml>=0.15.0 in /opt/conda/lib/python3.7/site-packages (from bentoml==0.8.6->-r ./requirements.txt (line 2)) (0.15.87)\u001b[0m\n",
      "\u001b[39mRequirement already satisfied: websocket-client>=0.32.0 in /opt/conda/lib/python3.7/site-packages (from docker->bentoml==0.8.6->-r ./requirements.txt (line 2)) (0.57.0)\u001b[0m\n",
      "\u001b[39mRequirement already satisfied: six>=1.4.0 in /opt/conda/lib/python3.7/site-packages (from docker->bentoml==0.8.6->-r ./requirements.txt (line 2)) (1.14.0)\u001b[0m\n",
      "\b\\\u001b[39mRequirement already satisfied: Mako in /opt/conda/lib/python3.7/site-packages (from alembic->bentoml==0.8.6->-r ./requirements.txt (line 2)) (1.1.3)\u001b[0m\n",
      "\u001b[39mRequirement already satisfied: python-editor>=0.3 in /opt/conda/lib/python3.7/site-packages (from alembic->bentoml==0.8.6->-r ./requirements.txt (line 2)) (1.0.4)\u001b[0m\n",
      "\u001b[39mRequirement already satisfied: pyparsing>=2.0.2 in /opt/conda/lib/python3.7/site-packages (from packaging->bentoml==0.8.6->-r ./requirements.txt (line 2)) (2.4.7)\u001b[0m\n",
      "\u001b[39mRequirement already satisfied: itsdangerous>=0.24 in /opt/conda/lib/python3.7/site-packages (from flask->bentoml==0.8.6->-r ./requirements.txt (line 2)) (1.1.0)\u001b[0m\n",
      "\u001b[39mRequirement already satisfied: Jinja2>=2.10.1 in /opt/conda/lib/python3.7/site-packages (from flask->bentoml==0.8.6->-r ./requirements.txt (line 2)) (2.11.2)\u001b[0m\n",
      "\u001b[39mRequirement already satisfied: Werkzeug>=0.15 in /opt/conda/lib/python3.7/site-packages (from flask->bentoml==0.8.6->-r ./requirements.txt (line 2)) (1.0.1)\u001b[0m\n",
      "\u001b[39mRequirement already satisfied: thriftpy2>=0.4.0 in /opt/conda/lib/python3.7/site-packages (from py-zipkin->bentoml==0.8.6->-r ./requirements.txt (line 2)) (0.4.11)\u001b[0m\n",
      "\u001b[39mRequirement already satisfied: chardet<4.0,>=2.0 in /opt/conda/lib/python3.7/site-packages (from aiohttp->bentoml==0.8.6->-r ./requirements.txt (line 2)) (3.0.4)\u001b[0m\n",
      "\u001b[39mRequirement already satisfied: yarl<2.0,>=1.0 in /opt/conda/lib/python3.7/site-packages (from aiohttp->bentoml==0.8.6->-r ./requirements.txt (line 2)) (1.5.1)\u001b[0m\n",
      "\u001b[39mRequirement already satisfied: async-timeout<4.0,>=3.0 in /opt/conda/lib/python3.7/site-packages (from aiohttp->bentoml==0.8.6->-r ./requirements.txt (line 2)) (3.0.1)\u001b[0m\n",
      "\u001b[39mRequirement already satisfied: attrs>=17.3.0 in /opt/conda/lib/python3.7/site-packages (from aiohttp->bentoml==0.8.6->-r ./requirements.txt (line 2)) (20.1.0)\u001b[0m\n",
      "\u001b[39mRequirement already satisfied: idna<2.9,>=2.5 in /opt/conda/lib/python3.7/site-packages (from requests->bentoml==0.8.6->-r ./requirements.txt (line 2)) (2.8)\u001b[0m\n",
      "\u001b[39mRequirement already satisfied: urllib3!=1.25.0,!=1.25.1,<1.26,>=1.21.1 in /opt/conda/lib/python3.7/site-packages (from requests->bentoml==0.8.6->-r ./requirements.txt (line 2)) (1.25.8)\u001b[0m\n",
      "\b-\u001b[39mRequirement already satisfied: jmespath<1.0.0,>=0.7.1 in /opt/conda/lib/python3.7/site-packages (from boto3->bentoml==0.8.6->-r ./requirements.txt (line 2)) (0.10.0)\u001b[0m\n",
      "\u001b[39mRequirement already satisfied: s3transfer<0.4.0,>=0.3.0 in /opt/conda/lib/python3.7/site-packages (from boto3->bentoml==0.8.6->-r ./requirements.txt (line 2)) (0.3.3)\u001b[0m\n",
      "\u001b[39mRequirement already satisfied: botocore<1.18.0,>=1.17.48 in /opt/conda/lib/python3.7/site-packages (from boto3->bentoml==0.8.6->-r ./requirements.txt (line 2)) (1.17.48)\u001b[0m\n",
      "\u001b[39mRequirement already satisfied: MarkupSafe>=0.9.2 in /opt/conda/lib/python3.7/site-packages (from Mako->alembic->bentoml==0.8.6->-r ./requirements.txt (line 2)) (1.1.1)\u001b[0m\n",
      "\u001b[39mRequirement already satisfied: ply<4.0,>=3.4 in /opt/conda/lib/python3.7/site-packages (from thriftpy2>=0.4.0->py-zipkin->bentoml==0.8.6->-r ./requirements.txt (line 2)) (3.11)\u001b[0m\n",
      "\u001b[39mRequirement already satisfied: typing-extensions>=3.7.4; python_version < \"3.8\" in /opt/conda/lib/python3.7/site-packages (from yarl<2.0,>=1.0->aiohttp->bentoml==0.8.6->-r ./requirements.txt (line 2)) (3.7.4.3)\u001b[0m\n",
      "\u001b[39mRequirement already satisfied: docutils<0.16,>=0.10 in /opt/conda/lib/python3.7/site-packages (from botocore<1.18.0,>=1.17.48->boto3->bentoml==0.8.6->-r ./requirements.txt (line 2)) (0.15.2)\u001b[0m\n",
      "\u001b[39mBuilding wheels for collected packages: fasttext\u001b[0m\n",
      "\u001b[39m  Building wheel for fasttext (setup.py): started\u001b[0m\n",
      "\b|\u001b[39m  Building wheel for fasttext (setup.py): finished with status 'done'\u001b[0m\n",
      "\b\\\u001b[39m  Created wheel for fasttext: filename=fasttext-0.9.2-cp37-cp37m-linux_x86_64.whl size=4441113 sha256=9e4dca257f27f2bf88fc1900dba10a3cac64bb1cdd62c5868f05e4cae76b5d4a\n",
      "  Stored in directory: /tmp/pip-ephem-wheel-cache-75ddlgl0/wheels/4e/ca/bf/b020d2be95f7641801a6597a29c8f4f19e38f9c02a345bab9b\u001b[0m\n",
      "\u001b[39mSuccessfully built fasttext\u001b[0m\n",
      "\u001b[39mInstalling collected packages: fasttext\u001b[0m\n",
      "\b/\u001b[39mSuccessfully installed fasttext-0.9.2\u001b[0m\n",
      "\b|\u001b[39m\u001b[91m+ for filename in ./bundled_pip_dependencies/*.tar.gz\n",
      "+ '[' -e ./bundled_pip_dependencies/BentoML-0.8.6+36.gab94ebfb.tar.gz ']'\n",
      "+ pip install -U ./bundled_pip_dependencies/BentoML-0.8.6+36.gab94ebfb.tar.gz --no-cache-dir\n",
      "\u001b[0m\u001b[0m\n",
      "\b|\u001b[39mLooking in indexes: https://pypi.python.org/simple/\u001b[0m\n",
      "\u001b[39mProcessing ./bundled_pip_dependencies/BentoML-0.8.6+36.gab94ebfb.tar.gz\u001b[0m\n",
      "\b\\\u001b[39m  Installing build dependencies: started\u001b[0m\n",
      "\b/\u001b[39m  Installing build dependencies: finished with status 'done'\n",
      "  Getting requirements to build wheel: started\u001b[0m\n",
      "\b|\u001b[39m  Getting requirements to build wheel: finished with status 'done'\u001b[0m\n",
      "\u001b[39m    Preparing wheel metadata: started\u001b[0m\n",
      "\b/\u001b[39m    Preparing wheel metadata: finished with status 'done'\u001b[0m\n",
      "\b-\u001b[39mRequirement already satisfied, skipping upgrade: boto3 in /opt/conda/lib/python3.7/site-packages (from BentoML==0.8.6+36.gab94ebfb) (1.14.48)\u001b[0m\n",
      "\u001b[39mRequirement already satisfied, skipping upgrade: protobuf>=3.6.0 in /opt/conda/lib/python3.7/site-packages (from BentoML==0.8.6+36.gab94ebfb) (3.13.0)\u001b[0m\n",
      "\u001b[39mRequirement already satisfied, skipping upgrade: humanfriendly in /opt/conda/lib/python3.7/site-packages (from BentoML==0.8.6+36.gab94ebfb) (8.2)\u001b[0m\n",
      "\u001b[39mRequirement already satisfied, skipping upgrade: docker in /opt/conda/lib/python3.7/site-packages (from BentoML==0.8.6+36.gab94ebfb) (4.3.1)\u001b[0m\n"
     ]
    },
    {
     "name": "stdout",
     "output_type": "stream",
     "text": [
      "\u001b[39mRequirement already satisfied, skipping upgrade: alembic in /opt/conda/lib/python3.7/site-packages (from BentoML==0.8.6+36.gab94ebfb) (1.4.2)\u001b[0m\n",
      "\b\\\u001b[39mCollecting sqlalchemy-utils<0.36.8\u001b[0m\n",
      "\b-\u001b[39m  Downloading SQLAlchemy-Utils-0.36.7.tar.gz (131 kB)\u001b[0m\n",
      "\b/\u001b[39mRequirement already satisfied, skipping upgrade: cerberus in /opt/conda/lib/python3.7/site-packages (from BentoML==0.8.6+36.gab94ebfb) (1.3.2)\u001b[0m\n",
      "\u001b[39mRequirement already satisfied, skipping upgrade: requests in /opt/conda/lib/python3.7/site-packages (from BentoML==0.8.6+36.gab94ebfb) (2.22.0)\u001b[0m\n",
      "\u001b[39mRequirement already satisfied, skipping upgrade: configparser in /opt/conda/lib/python3.7/site-packages (from BentoML==0.8.6+36.gab94ebfb) (5.0.0)\u001b[0m\n",
      "\u001b[39mRequirement already satisfied, skipping upgrade: sqlalchemy>=1.3.0 in /opt/conda/lib/python3.7/site-packages (from BentoML==0.8.6+36.gab94ebfb) (1.3.19)\u001b[0m\n",
      "\b|\u001b[39mRequirement already satisfied, skipping upgrade: click>=7.0 in /opt/conda/lib/python3.7/site-packages (from BentoML==0.8.6+36.gab94ebfb) (7.1.2)\u001b[0m\n",
      "\u001b[39mRequirement already satisfied, skipping upgrade: flask in /opt/conda/lib/python3.7/site-packages (from BentoML==0.8.6+36.gab94ebfb) (1.1.2)\u001b[0m\n",
      "\u001b[39mRequirement already satisfied, skipping upgrade: numpy in /opt/conda/lib/python3.7/site-packages (from BentoML==0.8.6+36.gab94ebfb) (1.19.1)\u001b[0m\n",
      "\u001b[39mRequirement already satisfied, skipping upgrade: ruamel.yaml>=0.15.0 in /opt/conda/lib/python3.7/site-packages (from BentoML==0.8.6+36.gab94ebfb) (0.15.87)\u001b[0m\n",
      "\u001b[39mRequirement already satisfied, skipping upgrade: psutil in /opt/conda/lib/python3.7/site-packages (from BentoML==0.8.6+36.gab94ebfb) (5.7.2)\u001b[0m\n",
      "\u001b[39mRequirement already satisfied, skipping upgrade: prometheus-client in /opt/conda/lib/python3.7/site-packages (from BentoML==0.8.6+36.gab94ebfb) (0.8.0)\u001b[0m\n",
      "\u001b[39mRequirement already satisfied, skipping upgrade: tabulate in /opt/conda/lib/python3.7/site-packages (from BentoML==0.8.6+36.gab94ebfb) (0.8.7)\u001b[0m\n",
      "\u001b[39mRequirement already satisfied, skipping upgrade: py-zipkin in /opt/conda/lib/python3.7/site-packages (from BentoML==0.8.6+36.gab94ebfb) (0.20.0)\u001b[0m\n",
      "\u001b[39mRequirement already satisfied, skipping upgrade: aiohttp in /opt/conda/lib/python3.7/site-packages (from BentoML==0.8.6+36.gab94ebfb) (3.6.2)\u001b[0m\n",
      "\u001b[39mRequirement already satisfied, skipping upgrade: python-json-logger in /opt/conda/lib/python3.7/site-packages (from BentoML==0.8.6+36.gab94ebfb) (0.1.11)\u001b[0m\n",
      "\u001b[39mRequirement already satisfied, skipping upgrade: multidict in /opt/conda/lib/python3.7/site-packages (from BentoML==0.8.6+36.gab94ebfb) (4.7.6)\u001b[0m\n",
      "\u001b[39mRequirement already satisfied, skipping upgrade: certifi in /opt/conda/lib/python3.7/site-packages (from BentoML==0.8.6+36.gab94ebfb) (2020.6.20)\u001b[0m\n",
      "\u001b[39mRequirement already satisfied, skipping upgrade: python-dateutil<3.0.0,>=2.7.3 in /opt/conda/lib/python3.7/site-packages (from BentoML==0.8.6+36.gab94ebfb) (2.8.0)\u001b[0m\n",
      "\u001b[39mRequirement already satisfied, skipping upgrade: gunicorn in /opt/conda/lib/python3.7/site-packages (from BentoML==0.8.6+36.gab94ebfb) (20.0.4)\u001b[0m\n",
      "\b\\\u001b[39mRequirement already satisfied, skipping upgrade: grpcio<=1.27.2 in /opt/conda/lib/python3.7/site-packages (from BentoML==0.8.6+36.gab94ebfb) (1.27.2)\u001b[0m\n",
      "\u001b[39mRequirement already satisfied, skipping upgrade: packaging in /opt/conda/lib/python3.7/site-packages (from BentoML==0.8.6+36.gab94ebfb) (20.4)\u001b[0m\n",
      "\u001b[39mRequirement already satisfied, skipping upgrade: s3transfer<0.4.0,>=0.3.0 in /opt/conda/lib/python3.7/site-packages (from boto3->BentoML==0.8.6+36.gab94ebfb) (0.3.3)\u001b[0m\n",
      "\u001b[39mRequirement already satisfied, skipping upgrade: jmespath<1.0.0,>=0.7.1 in /opt/conda/lib/python3.7/site-packages (from boto3->BentoML==0.8.6+36.gab94ebfb) (0.10.0)\u001b[0m\n",
      "\u001b[39mRequirement already satisfied, skipping upgrade: botocore<1.18.0,>=1.17.48 in /opt/conda/lib/python3.7/site-packages (from boto3->BentoML==0.8.6+36.gab94ebfb) (1.17.48)\u001b[0m\n",
      "\u001b[39mRequirement already satisfied, skipping upgrade: six>=1.9 in /opt/conda/lib/python3.7/site-packages (from protobuf>=3.6.0->BentoML==0.8.6+36.gab94ebfb) (1.14.0)\u001b[0m\n",
      "\u001b[39mRequirement already satisfied, skipping upgrade: setuptools in /opt/conda/lib/python3.7/site-packages (from protobuf>=3.6.0->BentoML==0.8.6+36.gab94ebfb) (45.2.0.post20200210)\u001b[0m\n",
      "\u001b[39mRequirement already satisfied, skipping upgrade: websocket-client>=0.32.0 in /opt/conda/lib/python3.7/site-packages (from docker->BentoML==0.8.6+36.gab94ebfb) (0.57.0)\u001b[0m\n",
      "\u001b[39mRequirement already satisfied, skipping upgrade: Mako in /opt/conda/lib/python3.7/site-packages (from alembic->BentoML==0.8.6+36.gab94ebfb) (1.1.3)\u001b[0m\n",
      "\u001b[39mRequirement already satisfied, skipping upgrade: python-editor>=0.3 in /opt/conda/lib/python3.7/site-packages (from alembic->BentoML==0.8.6+36.gab94ebfb) (1.0.4)\u001b[0m\n",
      "\u001b[39mRequirement already satisfied, skipping upgrade: urllib3!=1.25.0,!=1.25.1,<1.26,>=1.21.1 in /opt/conda/lib/python3.7/site-packages (from requests->BentoML==0.8.6+36.gab94ebfb) (1.25.8)\u001b[0m\n",
      "\u001b[39mRequirement already satisfied, skipping upgrade: chardet<3.1.0,>=3.0.2 in /opt/conda/lib/python3.7/site-packages (from requests->BentoML==0.8.6+36.gab94ebfb) (3.0.4)\u001b[0m\n",
      "\u001b[39mRequirement already satisfied, skipping upgrade: idna<2.9,>=2.5 in /opt/conda/lib/python3.7/site-packages (from requests->BentoML==0.8.6+36.gab94ebfb) (2.8)\u001b[0m\n",
      "\u001b[39mRequirement already satisfied, skipping upgrade: Werkzeug>=0.15 in /opt/conda/lib/python3.7/site-packages (from flask->BentoML==0.8.6+36.gab94ebfb) (1.0.1)\u001b[0m\n",
      "\u001b[39mRequirement already satisfied, skipping upgrade: itsdangerous>=0.24 in /opt/conda/lib/python3.7/site-packages (from flask->BentoML==0.8.6+36.gab94ebfb) (1.1.0)\u001b[0m\n",
      "\b-\u001b[39mRequirement already satisfied, skipping upgrade: Jinja2>=2.10.1 in /opt/conda/lib/python3.7/site-packages (from flask->BentoML==0.8.6+36.gab94ebfb) (2.11.2)\u001b[0m\n",
      "\u001b[39mRequirement already satisfied, skipping upgrade: thriftpy2>=0.4.0 in /opt/conda/lib/python3.7/site-packages (from py-zipkin->BentoML==0.8.6+36.gab94ebfb) (0.4.11)\u001b[0m\n",
      "\u001b[39mRequirement already satisfied, skipping upgrade: yarl<2.0,>=1.0 in /opt/conda/lib/python3.7/site-packages (from aiohttp->BentoML==0.8.6+36.gab94ebfb) (1.5.1)\u001b[0m\n",
      "\u001b[39mRequirement already satisfied, skipping upgrade: attrs>=17.3.0 in /opt/conda/lib/python3.7/site-packages (from aiohttp->BentoML==0.8.6+36.gab94ebfb) (20.1.0)\u001b[0m\n",
      "\u001b[39mRequirement already satisfied, skipping upgrade: async-timeout<4.0,>=3.0 in /opt/conda/lib/python3.7/site-packages (from aiohttp->BentoML==0.8.6+36.gab94ebfb) (3.0.1)\u001b[0m\n",
      "\u001b[39mRequirement already satisfied, skipping upgrade: pyparsing>=2.0.2 in /opt/conda/lib/python3.7/site-packages (from packaging->BentoML==0.8.6+36.gab94ebfb) (2.4.7)\u001b[0m\n",
      "\u001b[39mRequirement already satisfied, skipping upgrade: docutils<0.16,>=0.10 in /opt/conda/lib/python3.7/site-packages (from botocore<1.18.0,>=1.17.48->boto3->BentoML==0.8.6+36.gab94ebfb) (0.15.2)\u001b[0m\n",
      "\u001b[39mRequirement already satisfied, skipping upgrade: MarkupSafe>=0.9.2 in /opt/conda/lib/python3.7/site-packages (from Mako->alembic->BentoML==0.8.6+36.gab94ebfb) (1.1.1)\u001b[0m\n",
      "\u001b[39mRequirement already satisfied, skipping upgrade: ply<4.0,>=3.4 in /opt/conda/lib/python3.7/site-packages (from thriftpy2>=0.4.0->py-zipkin->BentoML==0.8.6+36.gab94ebfb) (3.11)\u001b[0m\n",
      "\u001b[39mRequirement already satisfied, skipping upgrade: typing-extensions>=3.7.4; python_version < \"3.8\" in /opt/conda/lib/python3.7/site-packages (from yarl<2.0,>=1.0->aiohttp->BentoML==0.8.6+36.gab94ebfb) (3.7.4.3)\u001b[0m\n",
      "\u001b[39mBuilding wheels for collected packages: BentoML, sqlalchemy-utils\u001b[0m\n",
      "\u001b[39m  Building wheel for BentoML (PEP 517): started\u001b[0m\n",
      "\b|\u001b[39m  Building wheel for BentoML (PEP 517): finished with status 'done'\u001b[0m\n",
      "\u001b[39m  Created wheel for BentoML: filename=BentoML-0.8.6+36.gab94ebfb-py3-none-any.whl size=4712451 sha256=015658c4fada7f2ec4ce508df113796453830a3fe2df0be6986a4a2631549dd5\n",
      "  Stored in directory: /tmp/pip-ephem-wheel-cache-8blnh_3o/wheels/5b/25/f1/96ac959990dff58debbbcd6633150d991d29778500180aea00\u001b[0m\n",
      "\u001b[39m  Building wheel for sqlalchemy-utils (setup.py): started\u001b[0m\n",
      "\b\\\u001b[39m  Building wheel for sqlalchemy-utils (setup.py): finished with status 'done'\u001b[0m\n",
      "\u001b[39m  Created wheel for sqlalchemy-utils: filename=SQLAlchemy_Utils-0.36.7-py2.py3-none-any.whl size=93226 sha256=7bdfa65cd3d64eb2bf01402d4e3b61e47d86929c0d8c74c9fb83d3ee7985ee2c\u001b[0m\n",
      "\u001b[39m  Stored in directory: /tmp/pip-ephem-wheel-cache-8blnh_3o/wheels/85/a9/d2/3377194742a9ad5eb57ee36f934438c15e1aaa0843dd41c899\u001b[0m\n",
      "\u001b[39mSuccessfully built BentoML sqlalchemy-utils\u001b[0m\n"
     ]
    },
    {
     "name": "stdout",
     "output_type": "stream",
     "text": [
      "\b/\u001b[39mInstalling collected packages: sqlalchemy-utils, BentoML\n",
      "  Attempting uninstall: sqlalchemy-utils\u001b[0m\n",
      "\u001b[39m    Found existing installation: SQLAlchemy-Utils 0.36.8\u001b[0m\n",
      "\u001b[39m    Uninstalling SQLAlchemy-Utils-0.36.8:\u001b[0m\n",
      "\b|\u001b[39m      Successfully uninstalled SQLAlchemy-Utils-0.36.8\u001b[0m\n",
      "\b\\\u001b[39m  Attempting uninstall: BentoML\u001b[0m\n",
      "\u001b[39m    Found existing installation: BentoML 0.8.6\u001b[0m\n",
      "\b-\u001b[39m    Uninstalling BentoML-0.8.6:\u001b[0m\n",
      "\b|\u001b[39m      Successfully uninstalled BentoML-0.8.6\u001b[0m\n",
      "\b/\u001b[39mSuccessfully installed BentoML-0.8.6+36.gab94ebfb sqlalchemy-utils-0.36.7\u001b[0m\n",
      "\b-\u001b[39m ---> 559bf8aa7c58\u001b[0m\n",
      "\u001b[39mStep 10/15 : ENV PORT 5000\u001b[0m\n",
      "\u001b[39m ---> Running in 0904f86ae32f\u001b[0m\n",
      "\b/\u001b[39m ---> 2fae7d1d07f1\u001b[0m\n",
      "\u001b[39mStep 11/15 : EXPOSE $PORT\u001b[0m\n",
      "\b|\u001b[39m ---> Running in 539fe08b13b0\u001b[0m\n",
      "\b\\\u001b[39m ---> 24fee9c226ea\u001b[0m\n",
      "\u001b[39mStep 12/15 : COPY docker-entrypoint.sh /usr/local/bin/\u001b[0m\n",
      "\b-\u001b[39m ---> 99b821c976b2\u001b[0m\n",
      "\u001b[39mStep 13/15 : RUN chmod +x /usr/local/bin/docker-entrypoint.sh\u001b[0m\n",
      "\b/\u001b[39m ---> Running in 5ca041bad772\u001b[0m\n",
      "\b\\\u001b[39m ---> eb94d93fd115\u001b[0m\n",
      "\u001b[39mStep 14/15 : ENTRYPOINT [ \"docker-entrypoint.sh\" ]\u001b[0m\n",
      "\u001b[39m ---> Running in e885966e0c53\u001b[0m\n",
      "\b-\u001b[39m ---> 410a2523aa79\u001b[0m\n",
      "\u001b[39mStep 15/15 : CMD [\"bentoml\", \"serve-gunicorn\", \"/bento\"]\u001b[0m\n",
      "\b/\u001b[39m ---> Running in f0e4f32fcf77\u001b[0m\n",
      "\b|\u001b[39m ---> 3783632ff75e\u001b[0m\n",
      "\u001b[39mSuccessfully built 3783632ff75e\u001b[0m\n",
      "\u001b[39mSuccessfully tagged fasttextclassification:20200908174046_70E6AC\u001b[0m\n",
      "\u001b[32mFinished building fasttextclassification:20200908174046_70E6AC from FasttextClassification:latest\u001b[0m\n"
     ]
    }
   ],
   "source": [
    "!bentoml containerize FasttextClassification:latest"
   ]
  },
  {
   "cell_type": "code",
   "execution_count": null,
   "metadata": {},
   "outputs": [],
   "source": [
    "!docker run --rm -p5000:5000 fasttextclassification:20200908174046_70E6AC"
   ]
  },
  {
   "cell_type": "markdown",
   "metadata": {},
   "source": [
    "## Load saved BentoService\n",
    "\n",
    "bentoml.load is the API for loading a BentoML packaged model in python:"
   ]
  },
  {
   "cell_type": "code",
   "execution_count": null,
   "metadata": {},
   "outputs": [],
   "source": [
    "from bentoml import load\n",
    "\n",
    "svc = load(saved_path)\n",
    "\n",
    "print(svc.predict([{\"text\": \"which baking dish is the best?\"}]))"
   ]
  },
  {
   "cell_type": "markdown",
   "metadata": {},
   "source": [
    "## Launch inference job from CLI\n",
    "\n",
    "BentoML cli supports loading and running a packaged model from CLI. With the DataframeInput adapter, the CLI command supports reading input Dataframe data from CLI argument or local csv or json files:"
   ]
  },
  {
   "cell_type": "code",
   "execution_count": 25,
   "metadata": {},
   "outputs": [
    {
     "name": "stdout",
     "output_type": "stream",
     "text": [
      "[2020-09-08 17:48:59,442] INFO - Getting latest version FasttextClassification:20200908174046_70E6AC\n",
      "[2020-09-08 17:48:59,489] WARNING - Using BentoML installed in `editable` model, the local BentoML repository including all code changes will be packaged together with saved bundle created, under the './bundled_pip_dependencies' directory of the saved bundle.\n",
      "[2020-09-08 17:48:59,507] WARNING - Saved BentoService bundle version mismatch: loading BentoService bundle create with BentoML version 0.8.6, but loading from BentoML version 0.8.6+36.gab94ebfb\n",
      "Warning : `load_model` does not return WordVectorModel or SupervisedModel any more, but a `FastText` object which is very similar.\n",
      "([['__label__baking']], [array([0.06232639], dtype=float32)])\n",
      "['baking']\n",
      "\"baking\"\n"
     ]
    }
   ],
   "source": [
    "!bentoml run FasttextClassification:latest predict --input='{\"text\": \"Which baking dish is best to bake a banana bread ?\"}'"
   ]
  },
  {
   "cell_type": "markdown",
   "metadata": {},
   "source": [
    "# Deployment Options\n",
    "\n",
    "If you are at a small team with limited engineering or DevOps resources, try out automated deployment with BentoML CLI, currently supporting AWS Lambda, AWS SageMaker, and Azure Functions:\n",
    "- [AWS Lambda Deployment Guide](https://docs.bentoml.org/en/latest/deployment/aws_lambda.html)\n",
    "- [AWS SageMaker Deployment Guide](https://docs.bentoml.org/en/latest/deployment/aws_sagemaker.html)\n",
    "- [Azure Functions Deployment Guide](https://docs.bentoml.org/en/latest/deployment/azure_functions.html)\n",
    "\n",
    "If the cloud platform you are working with is not on the list above, try out these step-by-step guide on manually deploying BentoML packaged model to cloud platforms:\n",
    "- [AWS ECS Deployment](https://docs.bentoml.org/en/latest/deployment/aws_ecs.html)\n",
    "- [Google Cloud Run Deployment](https://docs.bentoml.org/en/latest/deployment/google_cloud_run.html)\n",
    "- [Azure container instance Deployment](https://docs.bentoml.org/en/latest/deployment/azure_container_instance.html)\n",
    "- [Heroku Deployment](https://docs.bentoml.org/en/latest/deployment/heroku.html)\n",
    "\n",
    "Lastly, if you have a DevOps or ML Engineering team who's operating a Kubernetes or OpenShift cluster, use the following guides as references for implementating your deployment strategy:\n",
    "- [Kubernetes Deployment](https://docs.bentoml.org/en/latest/deployment/kubernetes.html)\n",
    "- [Knative Deployment](https://docs.bentoml.org/en/latest/deployment/knative.html)\n",
    "- [Kubeflow Deployment](https://docs.bentoml.org/en/latest/deployment/kubeflow.html)\n",
    "- [KFServing Deployment](https://docs.bentoml.org/en/latest/deployment/kfserving.html)\n",
    "- [Clipper.ai Deployment Guide](https://docs.bentoml.org/en/latest/deployment/clipper.html)\n",
    "\n"
   ]
  },
  {
   "cell_type": "code",
   "execution_count": null,
   "metadata": {},
   "outputs": [],
   "source": []
  }
 ],
 "metadata": {
  "kernelspec": {
   "display_name": "Python 3",
   "language": "python",
   "name": "python3"
  },
  "language_info": {
   "codemirror_mode": {
    "name": "ipython",
    "version": 3
   },
   "file_extension": ".py",
   "mimetype": "text/x-python",
   "name": "python",
   "nbconvert_exporter": "python",
   "pygments_lexer": "ipython3",
   "version": "3.7.3"
  }
 },
 "nbformat": 4,
 "nbformat_minor": 2
}
