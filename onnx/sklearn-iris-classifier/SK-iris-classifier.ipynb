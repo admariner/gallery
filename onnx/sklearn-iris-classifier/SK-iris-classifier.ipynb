{
 "cells": [
  {
   "cell_type": "markdown",
   "metadata": {},
   "source": [
    "# BentoML Example: SKLearn to ONNX model\n",
    "\n",
    "\n",
    "BentoML is an open-source framework for machine learning **model serving**, aiming to **bridge the gap between Data Science and DevOps.**\n",
    "\n",
    "Data Scientists can easily package their models trained with any ML framework using BentoMl and reproduce the model for serving in production. BentoML helps with managing packaged models in the BentoML format, and allows DevOps to deploy them as online API serving endpoints or offline batch inference jobs, on any cloud platform.\n",
    "\n",
    "Before reading this example project, be sure to check out the [Getting started guide](https://github.com/bentoml/BentoML/blob/master/guides/quick-start/bentoml-quick-start-guide.ipynb) to learn about the basic concepts in BentoML.\n",
    "\n",
    "This example notebooks demonstrates how to build SK model and packed as ONNX model for BentoML\n",
    "\n",
    "![Impression](https://www.google-analytics.com/collect?v=1&tid=UA-112879361-3&cid=555&t=event&ec=onnx&ea=onnx-sk-iris-classifier&dt=onnx-sk-iris-classifier)"
   ]
  },
  {
   "cell_type": "code",
   "execution_count": 1,
   "metadata": {
    "scrolled": true
   },
   "outputs": [
    {
     "name": "stdout",
     "output_type": "stream",
     "text": [
      "Collecting skl2onnx\n",
      "  Using cached skl2onnx-1.7.0-py2.py3-none-any.whl (191 kB)\n",
      "Requirement already satisfied: onnx in /opt/anaconda3/lib/python3.7/site-packages (1.7.0)\n",
      "Collecting onnxmltools\n",
      "  Using cached onnxmltools-1.7.0-py2.py3-none-any.whl (252 kB)\n",
      "Requirement already satisfied: protobuf in /opt/anaconda3/lib/python3.7/site-packages (from skl2onnx) (3.11.3)\n",
      "Collecting onnxconverter-common>=1.5.1\n",
      "  Using cached onnxconverter_common-1.7.0-py2.py3-none-any.whl (64 kB)\n",
      "Requirement already satisfied: scipy>=1.0 in /opt/anaconda3/lib/python3.7/site-packages (from skl2onnx) (1.3.1)\n",
      "Requirement already satisfied: six in /opt/anaconda3/lib/python3.7/site-packages (from skl2onnx) (1.15.0)\n",
      "Requirement already satisfied: scikit-learn>=0.19 in /opt/anaconda3/lib/python3.7/site-packages (from skl2onnx) (0.21.3)\n",
      "Requirement already satisfied: numpy>=1.15 in /opt/anaconda3/lib/python3.7/site-packages (from skl2onnx) (1.18.5)\n",
      "Requirement already satisfied: typing-extensions>=3.6.2.1 in /opt/anaconda3/lib/python3.7/site-packages (from onnx) (3.7.4.2)\n",
      "Collecting keras2onnx\n",
      "  Using cached keras2onnx-1.7.0-py3-none-any.whl (96 kB)\n",
      "Requirement already satisfied: setuptools in /opt/anaconda3/lib/python3.7/site-packages (from protobuf->skl2onnx) (49.1.0.post20200710)\n",
      "Requirement already satisfied: joblib>=0.11 in /opt/anaconda3/lib/python3.7/site-packages (from scikit-learn>=0.19->skl2onnx) (0.13.2)\n",
      "Requirement already satisfied: requests in /opt/anaconda3/lib/python3.7/site-packages (from keras2onnx->onnxmltools) (2.24.0)\n",
      "Collecting fire\n",
      "  Using cached fire-0.3.1.tar.gz (81 kB)\n",
      "Requirement already satisfied: chardet<4,>=3.0.2 in /opt/anaconda3/lib/python3.7/site-packages (from requests->keras2onnx->onnxmltools) (3.0.4)\n",
      "Requirement already satisfied: idna<3,>=2.5 in /opt/anaconda3/lib/python3.7/site-packages (from requests->keras2onnx->onnxmltools) (2.10)\n",
      "Requirement already satisfied: urllib3!=1.25.0,!=1.25.1,<1.26,>=1.21.1 in /opt/anaconda3/lib/python3.7/site-packages (from requests->keras2onnx->onnxmltools) (1.24.3)\n",
      "Requirement already satisfied: certifi>=2017.4.17 in /opt/anaconda3/lib/python3.7/site-packages (from requests->keras2onnx->onnxmltools) (2020.6.20)\n",
      "Collecting termcolor\n",
      "  Downloading termcolor-1.1.0.tar.gz (3.9 kB)\n",
      "Building wheels for collected packages: fire, termcolor\n",
      "  Building wheel for fire (setup.py) ... \u001b[?25ldone\n",
      "\u001b[?25h  Created wheel for fire: filename=fire-0.3.1-py2.py3-none-any.whl size=111005 sha256=771d43d8451dfcbda6c1066b6e619b3f1ddec020d8ecc3fb0d8c0e70bbf8e526\n",
      "  Stored in directory: /home/bentoml/.cache/pip/wheels/95/38/e1/8b62337a8ecf5728bdc1017e828f253f7a9cf25db999861bec\n",
      "  Building wheel for termcolor (setup.py) ... \u001b[?25ldone\n",
      "\u001b[?25h  Created wheel for termcolor: filename=termcolor-1.1.0-py3-none-any.whl size=4830 sha256=4551679660493ab6f79c2ab0add35ed6f744f524e43039ab340d2abc7d796707\n",
      "  Stored in directory: /home/bentoml/.cache/pip/wheels/3f/e3/ec/8a8336ff196023622fbcb36de0c5a5c218cbb24111d1d4c7f2\n",
      "Successfully built fire termcolor\n",
      "Installing collected packages: onnxconverter-common, skl2onnx, termcolor, fire, keras2onnx, onnxmltools\n",
      "Successfully installed fire-0.3.1 keras2onnx-1.7.0 onnxconverter-common-1.7.0 onnxmltools-1.7.0 skl2onnx-1.7.0 termcolor-1.1.0\n"
     ]
    }
   ],
   "source": [
    "!pip install -q bentoml \"skl2onnx==1.7.0\" \"onnx==1.7.0\" \"onnxmltools==1.7.0\""
   ]
  },
  {
   "cell_type": "code",
   "execution_count": 1,
   "metadata": {},
   "outputs": [
    {
     "data": {
      "text/plain": [
       "LogisticRegression()"
      ]
     },
     "execution_count": 1,
     "metadata": {},
     "output_type": "execute_result"
    }
   ],
   "source": [
    "from sklearn.datasets import load_iris\n",
    "from sklearn.model_selection import train_test_split\n",
    "iris = load_iris()\n",
    "X, y = iris.data, iris.target\n",
    "X_train, X_test, y_train, y_test = train_test_split(X, y)\n",
    "\n",
    "from sklearn.linear_model import LogisticRegression\n",
    "clr = LogisticRegression()\n",
    "clr.fit(X_train, y_train)"
   ]
  },
  {
   "cell_type": "code",
   "execution_count": 2,
   "metadata": {},
   "outputs": [
    {
     "data": {
      "text/plain": [
       "array([0])"
      ]
     },
     "execution_count": 2,
     "metadata": {},
     "output_type": "execute_result"
    }
   ],
   "source": [
    "clr.predict([[5.1, 3.5, 1.4, 0.2]])"
   ]
  },
  {
   "cell_type": "code",
   "execution_count": 3,
   "metadata": {},
   "outputs": [
    {
     "name": "stdout",
     "output_type": "stream",
     "text": [
      "Writing iris_classifier_onnx.py\n"
     ]
    }
   ],
   "source": [
    "%%writefile iris_classifier_onnx.py\n",
    "\n",
    "import numpy\n",
    "import bentoml\n",
    "from bentoml.adapters import DataframeInput\n",
    "from bentoml.frameworks.onnx import OnnxModelArtifact\n",
    "\n",
    "@bentoml.artifacts([OnnxModelArtifact('model')])\n",
    "@bentoml.env(infer_pip_packages=True)\n",
    "class IrisClassifierOnnx(bentoml.BentoService):\n",
    "    \n",
    "    @bentoml.api(input=DataframeInput())\n",
    "    def predict(self, df):\n",
    "        input_data = df.to_numpy().astype(numpy.float32)\n",
    "        input_name = self.artifacts.model.get_inputs()[0].name\n",
    "        output_name = self.artifacts.model.get_outputs()[0].name\n",
    "        outputs = numpy.zeros(input_data.shape[0])\n",
    "        for i in range(input_data.shape[0]):\n",
    "            outputs[i] = self.artifacts.model.run([output_name], {input_name: input_data[i: i + 1]})[0]\n",
    "        return outputs"
   ]
  },
  {
   "cell_type": "code",
   "execution_count": 4,
   "metadata": {
    "scrolled": true
   },
   "outputs": [
    {
     "name": "stdout",
     "output_type": "stream",
     "text": [
      "[2020-09-08 21:01:18,365] WARNING - Using BentoML installed in `editable` model, the local BentoML repository including all code changes will be packaged together with saved bundle created, under the './bundled_pip_dependencies' directory of the saved bundle.\n",
      "[2020-09-08 21:01:21,001] INFO - Detected non-PyPI-released BentoML installed, copying local BentoML modulefiles to target saved bundle path..\n"
     ]
    },
    {
     "name": "stderr",
     "output_type": "stream",
     "text": [
      "warning: no previously-included files matching '*~' found anywhere in distribution\n",
      "warning: no previously-included files matching '*.pyo' found anywhere in distribution\n",
      "warning: no previously-included files matching '.git' found anywhere in distribution\n",
      "warning: no previously-included files matching '.ipynb_checkpoints' found anywhere in distribution\n",
      "warning: no previously-included files matching '__pycache__' found anywhere in distribution\n",
      "no previously-included directories found matching 'e2e_tests'\n",
      "no previously-included directories found matching 'tests'\n",
      "no previously-included directories found matching 'benchmark'\n"
     ]
    },
    {
     "name": "stdout",
     "output_type": "stream",
     "text": [
      "UPDATING BentoML-0.8.6+36.gab94ebfb/bentoml/_version.py\n",
      "set BentoML-0.8.6+36.gab94ebfb/bentoml/_version.py to '0.8.6+36.gab94ebfb'\n",
      "[2020-09-08 21:01:25,458] INFO - BentoService bundle 'IrisClassifierOnnx:20200908210120_30DE0E' saved to: /Users/bozhaoyu/bentoml/repository/IrisClassifierOnnx/20200908210120_30DE0E\n"
     ]
    }
   ],
   "source": [
    "from iris_classifier_onnx import IrisClassifierOnnx\n",
    "from skl2onnx.common.data_types import FloatTensorType\n",
    "import onnxmltools\n",
    "\n",
    "\n",
    "\n",
    "initial_type = [('float_input', FloatTensorType([None, 4]))]\n",
    "onnx_model = onnxmltools.convert_sklearn(clr, initial_types=initial_type)\n",
    "\n",
    "svc = IrisClassifierOnnx()\n",
    "svc.pack('model', onnx_model)\n",
    "\n",
    "saved_path = svc.save()"
   ]
  },
  {
   "cell_type": "markdown",
   "metadata": {},
   "source": [
    "## REST API Model Serving\n",
    "\n",
    "\n",
    "To start a REST API model server with the BentoService saved above, use the bentoml serve command:"
   ]
  },
  {
   "cell_type": "code",
   "execution_count": 2,
   "metadata": {},
   "outputs": [
    {
     "name": "stdout",
     "output_type": "stream",
     "text": [
      "[2020-08-04 09:58:22,230] INFO - Getting latest version IrisClassifierOnnx:20200804094903_8746D7\n",
      "[2020-08-04 09:58:22,230] INFO - Starting BentoML API server in development mode..\n",
      "[2020-08-04 09:58:23,377] WARNING - Using BentoML installed in `editable` model, the local BentoML repository including all code changes will be packaged together with saved bundle created, under the './bundled_pip_dependencies' directory of the saved bundle.\n",
      "[2020-08-04 09:58:23,405] WARNING - Saved BentoService bundle version mismatch: loading BentoService bundle create with BentoML version 0.8.1, but loading from BentoML version 0.8.3+47.g5daa71b\n",
      "[2020-08-04 09:58:23,406] WARNING - Saved BentoService Python version mismatch: loading BentoService bundle created with Python version 3.7.4, but current environment version is 3.6.10.\n",
      "[2020-08-04 09:58:24,464] WARNING - Saved BentoService bundle version mismatch: loading BentoService bundle create with BentoML version 0.8.1, but loading from BentoML version 0.8.3+47.g5daa71b\n",
      "[2020-08-04 09:58:24,464] WARNING - Saved BentoService Python version mismatch: loading BentoService bundle created with Python version 3.7.4, but current environment version is 3.6.10.\n",
      "[2020-08-04 09:58:24,466] INFO - Micro batch enabled for API `predict`\n",
      "[2020-08-04 09:58:24,466] INFO - Your system nofile limit is 10000, which means each instance of microbatch service is able to hold this number of connections at same time. You can increase the number of file descriptors for the server process, or launch more microbatch instances to accept more concurrent connection.\n",
      "[2020-08-04 09:58:24,475] INFO - Running micro batch service on :5000\n",
      " * Serving Flask app \"IrisClassifierOnnx\" (lazy loading)\n",
      " * Environment: production\n",
      "\u001b[31m   WARNING: This is a development server. Do not use it in a production deployment.\u001b[0m\n",
      "\u001b[2m   Use a production WSGI server instead.\u001b[0m\n",
      " * Debug mode: off\n",
      " * Running on http://127.0.0.1:40091/ (Press CTRL+C to quit)\n",
      "======== Running on http://0.0.0.0:5000 ========\n",
      "(Press CTRL+C to quit)\n",
      "[2020-08-04 09:58:27,265] INFO - Initializing onnxruntime InferenceSession from onnx file:'/home/bentoml/bentoml/repository/IrisClassifierOnnx/20200804094903_8746D7/IrisClassifierOnnx/artifacts/model.onnx'\n",
      "127.0.0.1 - - [04/Aug/2020 09:58:28] \"\u001b[37mPOST /predict HTTP/1.1\u001b[0m\" 200 -\n",
      "127.0.0.1 - - [04/Aug/2020 09:58:29] \"\u001b[37mPOST /predict HTTP/1.1\u001b[0m\" 200 -\n",
      "127.0.0.1 - - [04/Aug/2020 09:58:29] \"\u001b[37mPOST /predict HTTP/1.1\u001b[0m\" 200 -\n",
      "127.0.0.1 - - [04/Aug/2020 09:58:30] \"\u001b[37mPOST /predict HTTP/1.1\u001b[0m\" 200 -\n",
      "127.0.0.1 - - [04/Aug/2020 09:58:41] \"\u001b[37mPOST /predict HTTP/1.1\u001b[0m\" 200 -\n",
      "^C\n"
     ]
    }
   ],
   "source": [
    "!bentoml serve IrisClassifierOnnx:latest --enable-microbatch"
   ]
  },
  {
   "cell_type": "markdown",
   "metadata": {},
   "source": [
    "If you are running this notebook from Google Colab, you can start the dev server with `--run-with-ngrok` option, to gain acccess to the API endpoint via a public endpoint managed by [ngrok](https://ngrok.com/):"
   ]
  },
  {
   "cell_type": "code",
   "execution_count": null,
   "metadata": {},
   "outputs": [],
   "source": [
    "!bentoml serve IrisClassifierOnnx:latest --run-with-ngrok"
   ]
  },
  {
   "cell_type": "markdown",
   "metadata": {},
   "source": [
    "#### Send prediction requeset to the REST API server\n",
    "\n",
    "```\n",
    "curl -X POST \\\n",
    "  http://localhost:5000/predict \\\n",
    "  -H 'Content-Type: application/json' \\\n",
    "  -d '[[5.1, 3.5, 1.4, 0.2]]'\n",
    "```\n",
    "\n"
   ]
  },
  {
   "cell_type": "markdown",
   "metadata": {},
   "source": [
    "## Containerize model server with Docker\n",
    "\n",
    "\n",
    "One common way of distributing this model API server for production deployment, is via Docker containers. And BentoML provides a convenient way to do that.\n",
    "\n",
    "Note that docker is **not available in Google Colab**. You will need to download and run this notebook locally to try out this containerization with docker feature.\n",
    "\n",
    "If you already have docker configured, simply run the follow command to product a docker container serving the IrisClassifier prediction service created above:"
   ]
  },
  {
   "cell_type": "code",
   "execution_count": 8,
   "metadata": {},
   "outputs": [
    {
     "name": "stdout",
     "output_type": "stream",
     "text": [
      "[2020-09-08 21:02:13,762] INFO - Getting latest version IrisClassifierOnnx:20200908210120_30DE0E\n",
      "\u001b[39mFound Bento: /Users/bozhaoyu/bentoml/repository/IrisClassifierOnnx/20200908210120_30DE0E\u001b[0m\n",
      "[2020-09-08 21:02:13,800] WARNING - Using BentoML installed in `editable` model, the local BentoML repository including all code changes will be packaged together with saved bundle created, under the './bundled_pip_dependencies' directory of the saved bundle.\n",
      "[2020-09-08 21:02:13,814] WARNING - Saved BentoService bundle version mismatch: loading BentoService bundle create with BentoML version 0.8.6, but loading from BentoML version 0.8.6+36.gab94ebfb\n",
      "\u001b[39mTag not specified, using tag parsed from BentoService: 'irisclassifieronnx:20200908210120_30DE0E'\u001b[0m\n",
      "Building Docker image irisclassifieronnx:20200908210120_30DE0E from IrisClassifierOnnx:latest \n",
      "-we in here\n",
      "processed docker file\n",
      "(None, None)\n",
      "root in create archive /Users/bozhaoyu/bentoml/repository/IrisClassifierOnnx/20200908210120_30DE0E ['Dockerfile', 'IrisClassifierOnnx', 'IrisClassifierOnnx/__init__.py', 'IrisClassifierOnnx/__pycache__', 'IrisClassifierOnnx/__pycache__/iris_classifier_onnx.cpython-37.pyc', 'IrisClassifierOnnx/artifacts', 'IrisClassifierOnnx/artifacts/__init__.py', 'IrisClassifierOnnx/artifacts/model.onnx', 'IrisClassifierOnnx/bentoml.yml', 'IrisClassifierOnnx/iris_classifier_onnx.py', 'MANIFEST.in', 'README.md', 'bentoml-init.sh', 'bentoml.yml', 'bundled_pip_dependencies', 'bundled_pip_dependencies/BentoML-0.8.6+36.gab94ebfb.tar.gz', 'docker-entrypoint.sh', 'environment.yml', 'requirements.txt', 'setup.py']\n",
      "about to build\n",
      "about to upgrade params\n",
      "check each param and update\n",
      "if use config proxy\n",
      "if buildargs\n",
      "if shmsize\n",
      "if labels\n",
      "if cache from\n",
      "if target\n",
      "if network_mode\n",
      "if squash\n",
      "if extra hosts is not None\n",
      "if platform is not None\n",
      "if isolcation is not None\n",
      "if context is not None\n",
      "setting auth {'Content-Type': 'application/tar'}\n",
      "\b|docker build <tempfile._TemporaryFileWrapper object at 0x7fb0745cfc18> {'t': 'irisclassifieronnx:20200908210120_30DE0E', 'remote': None, 'q': False, 'nocache': False, 'rm': False, 'forcerm': False, 'pull': False, 'dockerfile': (None, None)}\n",
      "\b-docker response <Response [200]>\n",
      "context closes\n",
      "print responses\n",
      "\u001b[39mStep 1/15 : FROM bentoml/model-server:0.8.6\u001b[0m\n",
      "\u001b[39m ---> 71644b758bed\u001b[0m\n",
      "\u001b[39mStep 2/15 : COPY . /bento\u001b[0m\n",
      "\b\\\u001b[39m ---> 5edfb51cf74c\u001b[0m\n",
      "\u001b[39mStep 3/15 : WORKDIR /bento\u001b[0m\n",
      "\u001b[39m ---> Running in 3c1949fefb81\u001b[0m\n",
      "\b-\u001b[39m ---> 0dca6cadd028\u001b[0m\n",
      "\u001b[39mStep 4/15 : ARG PIP_INDEX_URL=https://pypi.python.org/simple/\u001b[0m\n",
      "\b/\u001b[39m ---> Running in ddf76c7a1665\u001b[0m\n",
      "\b|\u001b[39m ---> e0856c4ce78d\u001b[0m\n",
      "\u001b[39mStep 5/15 : ARG PIP_TRUSTED_HOST=pypi.python.org\u001b[0m\n",
      "\u001b[39m ---> Running in 425ee74a84a4\u001b[0m\n",
      "\b\\\u001b[39m ---> dfa8e375f728\u001b[0m\n",
      "\u001b[39mStep 6/15 : ENV PIP_INDEX_URL $PIP_INDEX_URL\u001b[0m\n",
      "\u001b[39m ---> Running in a6b4a68f5bf8\u001b[0m\n",
      "\b-\u001b[39m ---> 575248d7b140\u001b[0m\n",
      "\u001b[39mStep 7/15 : ENV PIP_TRUSTED_HOST $PIP_TRUSTED_HOST\u001b[0m\n",
      "\b/\u001b[39m ---> Running in ff7d0110643a\u001b[0m\n",
      "\b|\u001b[39m ---> ea1962802435\u001b[0m\n",
      "\u001b[39mStep 8/15 : RUN chmod +x /bento/bentoml-init.sh\u001b[0m\n",
      "\u001b[39m ---> Running in 1f0e7d2b5527\u001b[0m\n",
      "\b-\u001b[39m ---> e36b63628230\u001b[0m\n",
      "\u001b[39mStep 9/15 : RUN if [ -f /bento/bentoml-init.sh ]; then bash -c /bento/bentoml-init.sh; fi\u001b[0m\n",
      "\u001b[39m ---> Running in 543b214538cd\u001b[0m\n",
      "\b\\\u001b[39m\u001b[91m+++ dirname /bento/bentoml-init.sh\n",
      "\u001b[0m\u001b[0m\n",
      "\u001b[39m\u001b[91m++ cd /bento\n",
      "++ pwd -P\n",
      "\u001b[0m\u001b[0m\n",
      "\u001b[39m\u001b[91m+ SAVED_BUNDLE_PATH=/bento\n",
      "\u001b[0m\u001b[0m\n",
      "\u001b[39m\u001b[91m+ cd /bento\n",
      "+ '[' -f ./setup.sh ']'\n",
      "\u001b[0m\u001b[0m\n",
      "\u001b[39mUpdating conda base environment with environment.yml\u001b[0m\n",
      "\u001b[39m\u001b[91m+ command -v conda\n",
      "+ echo 'Updating conda base environment with environment.yml'\n",
      "+ conda env update -n base -f ./environment.yml\n",
      "\u001b[0m\u001b[0m\n",
      "\b-\u001b[39mCollecting package metadata (repodata.json): ...working... \u001b[0m\n",
      "\b\\\u001b[39mdone\u001b[0m\n",
      "\u001b[39mSolving environment: \u001b[0m\n",
      "\u001b[39m...working... \u001b[0m\n",
      "\b/\u001b[39mdone\u001b[0m\n",
      "\u001b[39m\n",
      "Downloading and Extracting Packages\n",
      "python_abi-3.7       | 4 KB      |            |   0% \u001b[0m\n",
      "python_abi-3.7       | 4 KB      | ########## | 100% \u001b[0m\n",
      "\u001b[39m\n",
      "ca-certificates-2020 | 145 KB    |            |   0% \u001b[0m\n",
      "ca-certificates-2020 | 145 KB    | ########## | 100% \u001b[0m\n",
      "\u001b[39m\n",
      "pip-20.2.3           | 1.1 MB    |            |   0% \u001b[0m\n",
      "pip-20.2.3           | 1.1 MB    | #######1   |  72% \u001b[0m\n",
      "pip-20.2.3           | 1.1 MB    | ########## | 100% \u001b[0m\n",
      "\u001b[39m\n",
      "python-3.7.3         | 32.1 MB   |            |   0% \u001b[0m\n",
      "python-3.7.3         | 32.1 MB   |            |   0% \u001b[0m\n",
      "python-3.7.3         | 32.1 MB   | 3          |   4% \u001b[0m\n",
      "python-3.7.3         | 32.1 MB   | 7          |   8% \u001b[0m\n",
      "python-3.7.3         | 32.1 MB   | #3         |  13% \u001b[0m\n",
      "python-3.7.3         | 32.1 MB   | #8         |  19% \u001b[0m\n",
      "python-3.7.3         | 32.1 MB   | ##5        |  25% \u001b[0m\n",
      "python-3.7.3         | 32.1 MB   | ###2       |  33% \u001b[0m\n",
      "python-3.7.3         | 32.1 MB   | ####       |  40% \u001b[0m\n",
      "python-3.7.3         | 32.1 MB   | ####7      |  48% \u001b[0m\n",
      "python-3.7.3         | 32.1 MB   | #####5     |  56% \u001b[0m\n",
      "python-3.7.3         | 32.1 MB   | ######3    |  64% \u001b[0m\n",
      "python-3.7.3         | 32.1 MB   | #######    |  71% \u001b[0m\n",
      "python-3.7.3         | 32.1 MB   | #######9   |  79% \u001b[0m\n",
      "python-3.7.3         | 32.1 MB   | ########7  |  87% \u001b[0m\n",
      "python-3.7.3         | 32.1 MB   | #########5 |  95% \u001b[0m\n",
      "python-3.7.3         | 32.1 MB   | ########## | 100% \u001b[0m\n",
      "\u001b[39m\n",
      "openssl-1.1.1g       | 2.1 MB    |            |   0% \u001b[0m\n",
      "openssl-1.1.1g       | 2.1 MB    | #9         |  19% \u001b[0m\n",
      "openssl-1.1.1g       | 2.1 MB    | #######1   |  72% \u001b[0m\n",
      "openssl-1.1.1g       | 2.1 MB    | ########## | 100% \u001b[0m\n",
      "\u001b[39m\n",
      "certifi-2020.6.20    | 151 KB    |            |   0% \u001b[0m\n",
      "certifi-2020.6.20    | 151 KB    | ########## | 100% \u001b[0m\n",
      "\u001b[39m\n",
      "Preparing transaction: ...working... \u001b[0m\n",
      "\b/\u001b[39mdone\u001b[0m\n",
      "\u001b[39mVerifying transaction: ...working... \u001b[0m\n",
      "\b\\\u001b[39mdone\u001b[0m\n",
      "\u001b[39mExecuting transaction: ...working... \u001b[0m\n",
      "\b\\\u001b[39mdone\u001b[0m\n",
      "\b\\\u001b[39m#\n",
      "# To activate this environment, use\n",
      "#\n",
      "#     $ conda activate base\n",
      "#\n",
      "# To deactivate an active environment, use\n",
      "#\n",
      "#     $ conda deactivate\u001b[0m\n",
      "\u001b[39m\u001b[91m\n",
      "\n",
      "==> WARNING: A newer version of conda exists. <==\n",
      "  current version: 4.8.2\n",
      "  latest version: 4.8.4\n",
      "\n",
      "Please update conda by running\n",
      "\n",
      "    $ conda update -n base -c defaults conda\n",
      "\n",
      "\n",
      "\u001b[0m\u001b[0m\n",
      "\b|\u001b[39m\u001b[91m+ pip install -r ./requirements.txt --no-cache-dir\n",
      "\u001b[0m\u001b[0m\n",
      "\b|\u001b[39mLooking in indexes: https://pypi.python.org/simple/\u001b[0m\n",
      "\b/\u001b[39mCollecting onnxruntime\u001b[0m\n",
      "\b|\u001b[39m  Downloading onnxruntime-1.4.0-cp37-cp37m-manylinux2010_x86_64.whl (4.4 MB)\u001b[0m\n",
      "\b/\u001b[39mCollecting pandas\u001b[0m\n",
      "\b|\u001b[39m  Downloading pandas-1.1.2-cp37-cp37m-manylinux1_x86_64.whl (10.5 MB)\u001b[0m\n",
      "\b/\u001b[39mRequirement already satisfied: bentoml==0.8.6 in /opt/conda/lib/python3.7/site-packages (from -r ./requirements.txt (line 3)) (0.8.6)\u001b[0m\n",
      "\b-\u001b[39mCollecting numpy==1.18.4\u001b[0m\n",
      "\u001b[39m  Downloading numpy-1.18.4-cp37-cp37m-manylinux1_x86_64.whl (20.2 MB)\u001b[0m\n",
      "\b/\u001b[39mRequirement already satisfied: protobuf in /opt/conda/lib/python3.7/site-packages (from onnxruntime->-r ./requirements.txt (line 1)) (3.13.0)\u001b[0m\n",
      "\u001b[39mRequirement already satisfied: python-dateutil>=2.7.3 in /opt/conda/lib/python3.7/site-packages (from pandas->-r ./requirements.txt (line 2)) (2.8.0)\u001b[0m\n",
      "\b-\u001b[39mCollecting pytz>=2017.2\u001b[0m\n",
      "\b/\u001b[39m  Downloading pytz-2020.1-py2.py3-none-any.whl (510 kB)\u001b[0m\n",
      "\u001b[39mRequirement already satisfied: grpcio<=1.27.2 in /opt/conda/lib/python3.7/site-packages (from bentoml==0.8.6->-r ./requirements.txt (line 3)) (1.27.2)\u001b[0m\n",
      "\u001b[39mRequirement already satisfied: certifi in /opt/conda/lib/python3.7/site-packages (from bentoml==0.8.6->-r ./requirements.txt (line 3)) (2020.6.20)\u001b[0m\n",
      "\u001b[39mRequirement already satisfied: python-json-logger in /opt/conda/lib/python3.7/site-packages (from bentoml==0.8.6->-r ./requirements.txt (line 3)) (0.1.11)\u001b[0m\n",
      "\u001b[39mRequirement already satisfied: tabulate in /opt/conda/lib/python3.7/site-packages (from bentoml==0.8.6->-r ./requirements.txt (line 3)) (0.8.7)\u001b[0m\n",
      "\u001b[39mRequirement already satisfied: multidict in /opt/conda/lib/python3.7/site-packages (from bentoml==0.8.6->-r ./requirements.txt (line 3)) (4.7.6)\u001b[0m\n",
      "\u001b[39mRequirement already satisfied: sqlalchemy>=1.3.0 in /opt/conda/lib/python3.7/site-packages (from bentoml==0.8.6->-r ./requirements.txt (line 3)) (1.3.19)\u001b[0m\n",
      "\u001b[39mRequirement already satisfied: gunicorn in /opt/conda/lib/python3.7/site-packages (from bentoml==0.8.6->-r ./requirements.txt (line 3)) (20.0.4)\u001b[0m\n",
      "\u001b[39mRequirement already satisfied: alembic in /opt/conda/lib/python3.7/site-packages (from bentoml==0.8.6->-r ./requirements.txt (line 3)) (1.4.2)\u001b[0m\n",
      "\u001b[39mRequirement already satisfied: click>=7.0 in /opt/conda/lib/python3.7/site-packages (from bentoml==0.8.6->-r ./requirements.txt (line 3)) (7.1.2)\u001b[0m\n"
     ]
    },
    {
     "name": "stdout",
     "output_type": "stream",
     "text": [
      "\b|\u001b[39mRequirement already satisfied: psutil in /opt/conda/lib/python3.7/site-packages (from bentoml==0.8.6->-r ./requirements.txt (line 3)) (5.7.2)\u001b[0m\n",
      "\u001b[39mRequirement already satisfied: aiohttp in /opt/conda/lib/python3.7/site-packages (from bentoml==0.8.6->-r ./requirements.txt (line 3)) (3.6.2)\u001b[0m\n",
      "\u001b[39mRequirement already satisfied: boto3 in /opt/conda/lib/python3.7/site-packages (from bentoml==0.8.6->-r ./requirements.txt (line 3)) (1.14.48)\u001b[0m\n",
      "\u001b[39mRequirement already satisfied: cerberus in /opt/conda/lib/python3.7/site-packages (from bentoml==0.8.6->-r ./requirements.txt (line 3)) (1.3.2)\u001b[0m\n",
      "\u001b[39mRequirement already satisfied: docker in /opt/conda/lib/python3.7/site-packages (from bentoml==0.8.6->-r ./requirements.txt (line 3)) (4.3.1)\u001b[0m\n",
      "\u001b[39mRequirement already satisfied: humanfriendly in /opt/conda/lib/python3.7/site-packages (from bentoml==0.8.6->-r ./requirements.txt (line 3)) (8.2)\u001b[0m\n",
      "\u001b[39mRequirement already satisfied: requests in /opt/conda/lib/python3.7/site-packages (from bentoml==0.8.6->-r ./requirements.txt (line 3)) (2.22.0)\u001b[0m\n",
      "\u001b[39mRequirement already satisfied: sqlalchemy-utils in /opt/conda/lib/python3.7/site-packages (from bentoml==0.8.6->-r ./requirements.txt (line 3)) (0.36.8)\u001b[0m\n",
      "\b\\\u001b[39mRequirement already satisfied: packaging in /opt/conda/lib/python3.7/site-packages (from bentoml==0.8.6->-r ./requirements.txt (line 3)) (20.4)\u001b[0m\n",
      "\u001b[39mRequirement already satisfied: flask in /opt/conda/lib/python3.7/site-packages (from bentoml==0.8.6->-r ./requirements.txt (line 3)) (1.1.2)\u001b[0m\n",
      "\u001b[39mRequirement already satisfied: py-zipkin in /opt/conda/lib/python3.7/site-packages (from bentoml==0.8.6->-r ./requirements.txt (line 3)) (0.20.0)\u001b[0m\n",
      "\u001b[39mRequirement already satisfied: ruamel.yaml>=0.15.0 in /opt/conda/lib/python3.7/site-packages (from bentoml==0.8.6->-r ./requirements.txt (line 3)) (0.15.87)\u001b[0m\n",
      "\u001b[39mRequirement already satisfied: configparser in /opt/conda/lib/python3.7/site-packages (from bentoml==0.8.6->-r ./requirements.txt (line 3)) (5.0.0)\u001b[0m\n",
      "\u001b[39mRequirement already satisfied: prometheus-client in /opt/conda/lib/python3.7/site-packages (from bentoml==0.8.6->-r ./requirements.txt (line 3)) (0.8.0)\u001b[0m\n",
      "\u001b[39mRequirement already satisfied: setuptools in /opt/conda/lib/python3.7/site-packages (from protobuf->onnxruntime->-r ./requirements.txt (line 1)) (45.2.0.post20200210)\u001b[0m\n",
      "\b-\u001b[39mRequirement already satisfied: six>=1.9 in /opt/conda/lib/python3.7/site-packages (from protobuf->onnxruntime->-r ./requirements.txt (line 1)) (1.14.0)\u001b[0m\n",
      "\u001b[39mRequirement already satisfied: Mako in /opt/conda/lib/python3.7/site-packages (from alembic->bentoml==0.8.6->-r ./requirements.txt (line 3)) (1.1.3)\u001b[0m\n",
      "\u001b[39mRequirement already satisfied: python-editor>=0.3 in /opt/conda/lib/python3.7/site-packages (from alembic->bentoml==0.8.6->-r ./requirements.txt (line 3)) (1.0.4)\u001b[0m\n",
      "\u001b[39mRequirement already satisfied: yarl<2.0,>=1.0 in /opt/conda/lib/python3.7/site-packages (from aiohttp->bentoml==0.8.6->-r ./requirements.txt (line 3)) (1.5.1)\u001b[0m\n",
      "\u001b[39mRequirement already satisfied: chardet<4.0,>=2.0 in /opt/conda/lib/python3.7/site-packages (from aiohttp->bentoml==0.8.6->-r ./requirements.txt (line 3)) (3.0.4)\u001b[0m\n",
      "\u001b[39mRequirement already satisfied: attrs>=17.3.0 in /opt/conda/lib/python3.7/site-packages (from aiohttp->bentoml==0.8.6->-r ./requirements.txt (line 3)) (20.1.0)\u001b[0m\n",
      "\u001b[39mRequirement already satisfied: async-timeout<4.0,>=3.0 in /opt/conda/lib/python3.7/site-packages (from aiohttp->bentoml==0.8.6->-r ./requirements.txt (line 3)) (3.0.1)\u001b[0m\n",
      "\u001b[39mRequirement already satisfied: botocore<1.18.0,>=1.17.48 in /opt/conda/lib/python3.7/site-packages (from boto3->bentoml==0.8.6->-r ./requirements.txt (line 3)) (1.17.48)\u001b[0m\n",
      "\u001b[39mRequirement already satisfied: jmespath<1.0.0,>=0.7.1 in /opt/conda/lib/python3.7/site-packages (from boto3->bentoml==0.8.6->-r ./requirements.txt (line 3)) (0.10.0)\u001b[0m\n",
      "\u001b[39mRequirement already satisfied: s3transfer<0.4.0,>=0.3.0 in /opt/conda/lib/python3.7/site-packages (from boto3->bentoml==0.8.6->-r ./requirements.txt (line 3)) (0.3.3)\u001b[0m\n",
      "\u001b[39mRequirement already satisfied: websocket-client>=0.32.0 in /opt/conda/lib/python3.7/site-packages (from docker->bentoml==0.8.6->-r ./requirements.txt (line 3)) (0.57.0)\u001b[0m\n",
      "\u001b[39mRequirement already satisfied: urllib3!=1.25.0,!=1.25.1,<1.26,>=1.21.1 in /opt/conda/lib/python3.7/site-packages (from requests->bentoml==0.8.6->-r ./requirements.txt (line 3)) (1.25.8)\u001b[0m\n",
      "\u001b[39mRequirement already satisfied: idna<2.9,>=2.5 in /opt/conda/lib/python3.7/site-packages (from requests->bentoml==0.8.6->-r ./requirements.txt (line 3)) (2.8)\u001b[0m\n",
      "\u001b[39mRequirement already satisfied: pyparsing>=2.0.2 in /opt/conda/lib/python3.7/site-packages (from packaging->bentoml==0.8.6->-r ./requirements.txt (line 3)) (2.4.7)\u001b[0m\n",
      "\u001b[39mRequirement already satisfied: itsdangerous>=0.24 in /opt/conda/lib/python3.7/site-packages (from flask->bentoml==0.8.6->-r ./requirements.txt (line 3)) (1.1.0)\u001b[0m\n",
      "\u001b[39mRequirement already satisfied: Jinja2>=2.10.1 in /opt/conda/lib/python3.7/site-packages (from flask->bentoml==0.8.6->-r ./requirements.txt (line 3)) (2.11.2)\u001b[0m\n",
      "\u001b[39mRequirement already satisfied: Werkzeug>=0.15 in /opt/conda/lib/python3.7/site-packages (from flask->bentoml==0.8.6->-r ./requirements.txt (line 3)) (1.0.1)\u001b[0m\n",
      "\b/\u001b[39mRequirement already satisfied: thriftpy2>=0.4.0 in /opt/conda/lib/python3.7/site-packages (from py-zipkin->bentoml==0.8.6->-r ./requirements.txt (line 3)) (0.4.11)\u001b[0m\n",
      "\u001b[39mRequirement already satisfied: MarkupSafe>=0.9.2 in /opt/conda/lib/python3.7/site-packages (from Mako->alembic->bentoml==0.8.6->-r ./requirements.txt (line 3)) (1.1.1)\u001b[0m\n",
      "\u001b[39mRequirement already satisfied: typing-extensions>=3.7.4; python_version < \"3.8\" in /opt/conda/lib/python3.7/site-packages (from yarl<2.0,>=1.0->aiohttp->bentoml==0.8.6->-r ./requirements.txt (line 3)) (3.7.4.3)\u001b[0m\n",
      "\u001b[39mRequirement already satisfied: docutils<0.16,>=0.10 in /opt/conda/lib/python3.7/site-packages (from botocore<1.18.0,>=1.17.48->boto3->bentoml==0.8.6->-r ./requirements.txt (line 3)) (0.15.2)\u001b[0m\n",
      "\u001b[39mRequirement already satisfied: ply<4.0,>=3.4 in /opt/conda/lib/python3.7/site-packages (from thriftpy2>=0.4.0->py-zipkin->bentoml==0.8.6->-r ./requirements.txt (line 3)) (3.11)\u001b[0m\n",
      "\b|\u001b[39mInstalling collected packages: numpy, onnxruntime, pytz, pandas\n",
      "  Attempting uninstall: numpy\u001b[0m\n",
      "\u001b[39m    Found existing installation: numpy 1.19.1\u001b[0m\n",
      "\b\\\u001b[39m    Uninstalling numpy-1.19.1:\u001b[0m\n",
      "\b|\u001b[39m      Successfully uninstalled numpy-1.19.1\u001b[0m\n",
      "\b\\\u001b[39mSuccessfully installed numpy-1.18.4 onnxruntime-1.4.0 pandas-1.1.2 pytz-2020.1\u001b[0m\n",
      "\b\\\u001b[39m\u001b[91m+ for filename in ./bundled_pip_dependencies/*.tar.gz\n",
      "+ '[' -e ./bundled_pip_dependencies/BentoML-0.8.6+36.gab94ebfb.tar.gz ']'\n",
      "+ pip install -U ./bundled_pip_dependencies/BentoML-0.8.6+36.gab94ebfb.tar.gz --no-cache-dir\n",
      "\u001b[0m\u001b[0m\n",
      "\b|\u001b[39mLooking in indexes: https://pypi.python.org/simple/\u001b[0m\n",
      "\u001b[39mProcessing ./bundled_pip_dependencies/BentoML-0.8.6+36.gab94ebfb.tar.gz\u001b[0m\n",
      "\b\\\u001b[39m  Installing build dependencies: started\u001b[0m\n",
      "\b|\u001b[39m  Installing build dependencies: finished with status 'done'\u001b[0m\n",
      "\u001b[39m  Getting requirements to build wheel: started\u001b[0m\n",
      "\b\\\u001b[39m  Getting requirements to build wheel: finished with status 'done'\u001b[0m\n",
      "\u001b[39m    Preparing wheel metadata: started\u001b[0m\n",
      "\b-\u001b[39m    Preparing wheel metadata: finished with status 'done'\u001b[0m\n",
      "\b|\u001b[39mRequirement already satisfied, skipping upgrade: flask in /opt/conda/lib/python3.7/site-packages (from BentoML==0.8.6+36.gab94ebfb) (1.1.2)\u001b[0m\n",
      "\b/\u001b[39mCollecting sqlalchemy-utils<0.36.8\u001b[0m\n",
      "\b|\u001b[39m  Downloading SQLAlchemy-Utils-0.36.7.tar.gz (131 kB)\u001b[0m\n",
      "\b\\\u001b[39mRequirement already satisfied, skipping upgrade: certifi in /opt/conda/lib/python3.7/site-packages (from BentoML==0.8.6+36.gab94ebfb) (2020.6.20)\u001b[0m\n",
      "\u001b[39mRequirement already satisfied, skipping upgrade: alembic in /opt/conda/lib/python3.7/site-packages (from BentoML==0.8.6+36.gab94ebfb) (1.4.2)\u001b[0m\n",
      "\u001b[39mRequirement already satisfied, skipping upgrade: click>=7.0 in /opt/conda/lib/python3.7/site-packages (from BentoML==0.8.6+36.gab94ebfb) (7.1.2)\u001b[0m\n",
      "\u001b[39mRequirement already satisfied, skipping upgrade: humanfriendly in /opt/conda/lib/python3.7/site-packages (from BentoML==0.8.6+36.gab94ebfb) (8.2)\u001b[0m\n",
      "\u001b[39mRequirement already satisfied, skipping upgrade: tabulate in /opt/conda/lib/python3.7/site-packages (from BentoML==0.8.6+36.gab94ebfb) (0.8.7)\u001b[0m\n",
      "\u001b[39mRequirement already satisfied, skipping upgrade: prometheus-client in /opt/conda/lib/python3.7/site-packages (from BentoML==0.8.6+36.gab94ebfb) (0.8.0)\u001b[0m\n",
      "\u001b[39mRequirement already satisfied, skipping upgrade: packaging in /opt/conda/lib/python3.7/site-packages (from BentoML==0.8.6+36.gab94ebfb) (20.4)\u001b[0m\n"
     ]
    },
    {
     "name": "stdout",
     "output_type": "stream",
     "text": [
      "\u001b[39mRequirement already satisfied, skipping upgrade: python-dateutil<3.0.0,>=2.7.3 in /opt/conda/lib/python3.7/site-packages (from BentoML==0.8.6+36.gab94ebfb) (2.8.0)\u001b[0m\n",
      "\u001b[39mRequirement already satisfied, skipping upgrade: gunicorn in /opt/conda/lib/python3.7/site-packages (from BentoML==0.8.6+36.gab94ebfb) (20.0.4)\u001b[0m\n",
      "\u001b[39mRequirement already satisfied, skipping upgrade: grpcio<=1.27.2 in /opt/conda/lib/python3.7/site-packages (from BentoML==0.8.6+36.gab94ebfb) (1.27.2)\u001b[0m\n",
      "\u001b[39mRequirement already satisfied, skipping upgrade: python-json-logger in /opt/conda/lib/python3.7/site-packages (from BentoML==0.8.6+36.gab94ebfb) (0.1.11)\u001b[0m\n",
      "\u001b[39mRequirement already satisfied, skipping upgrade: boto3 in /opt/conda/lib/python3.7/site-packages (from BentoML==0.8.6+36.gab94ebfb) (1.14.48)\u001b[0m\n",
      "\u001b[39mRequirement already satisfied, skipping upgrade: configparser in /opt/conda/lib/python3.7/site-packages (from BentoML==0.8.6+36.gab94ebfb) (5.0.0)\u001b[0m\n",
      "\u001b[39mRequirement already satisfied, skipping upgrade: ruamel.yaml>=0.15.0 in /opt/conda/lib/python3.7/site-packages (from BentoML==0.8.6+36.gab94ebfb) (0.15.87)\u001b[0m\n",
      "\u001b[39mRequirement already satisfied, skipping upgrade: protobuf>=3.6.0 in /opt/conda/lib/python3.7/site-packages (from BentoML==0.8.6+36.gab94ebfb) (3.13.0)\u001b[0m\n",
      "\u001b[39mRequirement already satisfied, skipping upgrade: multidict in /opt/conda/lib/python3.7/site-packages (from BentoML==0.8.6+36.gab94ebfb) (4.7.6)\u001b[0m\n",
      "\u001b[39mRequirement already satisfied, skipping upgrade: aiohttp in /opt/conda/lib/python3.7/site-packages (from BentoML==0.8.6+36.gab94ebfb) (3.6.2)\u001b[0m\n",
      "\u001b[39mRequirement already satisfied, skipping upgrade: py-zipkin in /opt/conda/lib/python3.7/site-packages (from BentoML==0.8.6+36.gab94ebfb) (0.20.0)\u001b[0m\n",
      "\b-\u001b[39mRequirement already satisfied, skipping upgrade: psutil in /opt/conda/lib/python3.7/site-packages (from BentoML==0.8.6+36.gab94ebfb) (5.7.2)\u001b[0m\n",
      "\u001b[39mRequirement already satisfied, skipping upgrade: docker in /opt/conda/lib/python3.7/site-packages (from BentoML==0.8.6+36.gab94ebfb) (4.3.1)\u001b[0m\n",
      "\u001b[39mRequirement already satisfied, skipping upgrade: numpy in /opt/conda/lib/python3.7/site-packages (from BentoML==0.8.6+36.gab94ebfb) (1.18.4)\u001b[0m\n",
      "\u001b[39mRequirement already satisfied, skipping upgrade: requests in /opt/conda/lib/python3.7/site-packages (from BentoML==0.8.6+36.gab94ebfb) (2.22.0)\u001b[0m\n",
      "\u001b[39mRequirement already satisfied, skipping upgrade: cerberus in /opt/conda/lib/python3.7/site-packages (from BentoML==0.8.6+36.gab94ebfb) (1.3.2)\u001b[0m\n",
      "\u001b[39mRequirement already satisfied, skipping upgrade: sqlalchemy>=1.3.0 in /opt/conda/lib/python3.7/site-packages (from BentoML==0.8.6+36.gab94ebfb) (1.3.19)\u001b[0m\n",
      "\u001b[39mRequirement already satisfied, skipping upgrade: itsdangerous>=0.24 in /opt/conda/lib/python3.7/site-packages (from flask->BentoML==0.8.6+36.gab94ebfb) (1.1.0)\u001b[0m\n",
      "\u001b[39mRequirement already satisfied, skipping upgrade: Jinja2>=2.10.1 in /opt/conda/lib/python3.7/site-packages (from flask->BentoML==0.8.6+36.gab94ebfb) (2.11.2)\u001b[0m\n",
      "\u001b[39mRequirement already satisfied, skipping upgrade: Werkzeug>=0.15 in /opt/conda/lib/python3.7/site-packages (from flask->BentoML==0.8.6+36.gab94ebfb) (1.0.1)\u001b[0m\n",
      "\u001b[39mRequirement already satisfied, skipping upgrade: six in /opt/conda/lib/python3.7/site-packages (from sqlalchemy-utils<0.36.8->BentoML==0.8.6+36.gab94ebfb) (1.14.0)\u001b[0m\n",
      "\u001b[39mRequirement already satisfied, skipping upgrade: Mako in /opt/conda/lib/python3.7/site-packages (from alembic->BentoML==0.8.6+36.gab94ebfb) (1.1.3)\u001b[0m\n",
      "\u001b[39mRequirement already satisfied, skipping upgrade: python-editor>=0.3 in /opt/conda/lib/python3.7/site-packages (from alembic->BentoML==0.8.6+36.gab94ebfb) (1.0.4)\u001b[0m\n",
      "\u001b[39mRequirement already satisfied, skipping upgrade: pyparsing>=2.0.2 in /opt/conda/lib/python3.7/site-packages (from packaging->BentoML==0.8.6+36.gab94ebfb) (2.4.7)\u001b[0m\n",
      "\u001b[39mRequirement already satisfied, skipping upgrade: setuptools>=3.0 in /opt/conda/lib/python3.7/site-packages (from gunicorn->BentoML==0.8.6+36.gab94ebfb) (45.2.0.post20200210)\u001b[0m\n",
      "\b/\u001b[39mRequirement already satisfied, skipping upgrade: botocore<1.18.0,>=1.17.48 in /opt/conda/lib/python3.7/site-packages (from boto3->BentoML==0.8.6+36.gab94ebfb) (1.17.48)\u001b[0m\n",
      "\u001b[39mRequirement already satisfied, skipping upgrade: s3transfer<0.4.0,>=0.3.0 in /opt/conda/lib/python3.7/site-packages (from boto3->BentoML==0.8.6+36.gab94ebfb) (0.3.3)\u001b[0m\n",
      "\u001b[39mRequirement already satisfied, skipping upgrade: jmespath<1.0.0,>=0.7.1 in /opt/conda/lib/python3.7/site-packages (from boto3->BentoML==0.8.6+36.gab94ebfb) (0.10.0)\u001b[0m\n",
      "\u001b[39mRequirement already satisfied, skipping upgrade: async-timeout<4.0,>=3.0 in /opt/conda/lib/python3.7/site-packages (from aiohttp->BentoML==0.8.6+36.gab94ebfb) (3.0.1)\u001b[0m\n",
      "\u001b[39mRequirement already satisfied, skipping upgrade: attrs>=17.3.0 in /opt/conda/lib/python3.7/site-packages (from aiohttp->BentoML==0.8.6+36.gab94ebfb) (20.1.0)\u001b[0m\n",
      "\u001b[39mRequirement already satisfied, skipping upgrade: chardet<4.0,>=2.0 in /opt/conda/lib/python3.7/site-packages (from aiohttp->BentoML==0.8.6+36.gab94ebfb) (3.0.4)\u001b[0m\n",
      "\u001b[39mRequirement already satisfied, skipping upgrade: yarl<2.0,>=1.0 in /opt/conda/lib/python3.7/site-packages (from aiohttp->BentoML==0.8.6+36.gab94ebfb) (1.5.1)\u001b[0m\n",
      "\u001b[39mRequirement already satisfied, skipping upgrade: thriftpy2>=0.4.0 in /opt/conda/lib/python3.7/site-packages (from py-zipkin->BentoML==0.8.6+36.gab94ebfb) (0.4.11)\u001b[0m\n",
      "\u001b[39mRequirement already satisfied, skipping upgrade: websocket-client>=0.32.0 in /opt/conda/lib/python3.7/site-packages (from docker->BentoML==0.8.6+36.gab94ebfb) (0.57.0)\u001b[0m\n",
      "\u001b[39mRequirement already satisfied, skipping upgrade: urllib3!=1.25.0,!=1.25.1,<1.26,>=1.21.1 in /opt/conda/lib/python3.7/site-packages (from requests->BentoML==0.8.6+36.gab94ebfb) (1.25.8)\u001b[0m\n",
      "\u001b[39mRequirement already satisfied, skipping upgrade: idna<2.9,>=2.5 in /opt/conda/lib/python3.7/site-packages (from requests->BentoML==0.8.6+36.gab94ebfb) (2.8)\u001b[0m\n",
      "\u001b[39mRequirement already satisfied, skipping upgrade: MarkupSafe>=0.23 in /opt/conda/lib/python3.7/site-packages (from Jinja2>=2.10.1->flask->BentoML==0.8.6+36.gab94ebfb) (1.1.1)\u001b[0m\n",
      "\u001b[39mRequirement already satisfied, skipping upgrade: docutils<0.16,>=0.10 in /opt/conda/lib/python3.7/site-packages (from botocore<1.18.0,>=1.17.48->boto3->BentoML==0.8.6+36.gab94ebfb) (0.15.2)\u001b[0m\n",
      "\u001b[39mRequirement already satisfied, skipping upgrade: typing-extensions>=3.7.4; python_version < \"3.8\" in /opt/conda/lib/python3.7/site-packages (from yarl<2.0,>=1.0->aiohttp->BentoML==0.8.6+36.gab94ebfb) (3.7.4.3)\u001b[0m\n",
      "\u001b[39mRequirement already satisfied, skipping upgrade: ply<4.0,>=3.4 in /opt/conda/lib/python3.7/site-packages (from thriftpy2>=0.4.0->py-zipkin->BentoML==0.8.6+36.gab94ebfb) (3.11)\u001b[0m\n",
      "\u001b[39mBuilding wheels for collected packages: BentoML, sqlalchemy-utils\u001b[0m\n",
      "\u001b[39m  Building wheel for BentoML (PEP 517): started\u001b[0m\n",
      "\b-\u001b[39m  Building wheel for BentoML (PEP 517): finished with status 'done'\u001b[0m\n",
      "\b/\u001b[39m  Created wheel for BentoML: filename=BentoML-0.8.6+36.gab94ebfb-py3-none-any.whl size=4712451 sha256=73fb250e9870b0bc30ede64baa633026a7fd371b7804d89fb5fde4620f36dbdc\u001b[0m\n",
      "\u001b[39m  Stored in directory: /tmp/pip-ephem-wheel-cache-dyo1xnkk/wheels/5b/25/f1/96ac959990dff58debbbcd6633150d991d29778500180aea00\u001b[0m\n",
      "\u001b[39m  Building wheel for sqlalchemy-utils (setup.py): started\u001b[0m\n",
      "\b/\u001b[39m  Building wheel for sqlalchemy-utils (setup.py): finished with status 'done'\u001b[0m\n",
      "\u001b[39m  Created wheel for sqlalchemy-utils: filename=SQLAlchemy_Utils-0.36.7-py2.py3-none-any.whl size=93226 sha256=8cb0631ba8096daa9e82e11f8865cd5f2c435e137e6bd8896f4c3a566fe1678c\u001b[0m\n",
      "\u001b[39m  Stored in directory: /tmp/pip-ephem-wheel-cache-dyo1xnkk/wheels/85/a9/d2/3377194742a9ad5eb57ee36f934438c15e1aaa0843dd41c899\u001b[0m\n",
      "\u001b[39mSuccessfully built BentoML sqlalchemy-utils\u001b[0m\n",
      "\b|\u001b[39mInstalling collected packages: sqlalchemy-utils, BentoML\n",
      "  Attempting uninstall: sqlalchemy-utils\u001b[0m\n",
      "\u001b[39m    Found existing installation: SQLAlchemy-Utils 0.36.8\u001b[0m\n",
      "\b\\\u001b[39m    Uninstalling SQLAlchemy-Utils-0.36.8:\u001b[0m\n",
      "\u001b[39m      Successfully uninstalled SQLAlchemy-Utils-0.36.8\u001b[0m\n",
      "\b-\u001b[39m  Attempting uninstall: BentoML\u001b[0m\n",
      "\u001b[39m    Found existing installation: BentoML 0.8.6\u001b[0m\n",
      "\b|\u001b[39m    Uninstalling BentoML-0.8.6:\u001b[0m\n"
     ]
    },
    {
     "name": "stdout",
     "output_type": "stream",
     "text": [
      "\b\\\u001b[39m      Successfully uninstalled BentoML-0.8.6\u001b[0m\n",
      "\b-\u001b[39mSuccessfully installed BentoML-0.8.6+36.gab94ebfb sqlalchemy-utils-0.36.7\u001b[0m\n",
      "\b-\u001b[39m ---> def3ab24579a\u001b[0m\n",
      "\u001b[39mStep 10/15 : ENV PORT 5000\u001b[0m\n",
      "\u001b[39m ---> Running in e5e3c0e8eb8c\u001b[0m\n",
      "\b/\u001b[39m ---> 72dbee777bb8\u001b[0m\n",
      "\u001b[39mStep 11/15 : EXPOSE $PORT\u001b[0m\n",
      "\b|\u001b[39m ---> Running in a54ed8aec1e8\u001b[0m\n",
      "\b\\\u001b[39m ---> 3f199643f78b\u001b[0m\n",
      "\u001b[39mStep 12/15 : COPY docker-entrypoint.sh /usr/local/bin/\u001b[0m\n",
      "\b-\u001b[39m ---> ffa40cdc4858\u001b[0m\n",
      "\u001b[39mStep 13/15 : RUN chmod +x /usr/local/bin/docker-entrypoint.sh\u001b[0m\n",
      "\b/\u001b[39m ---> Running in dc1720254890\u001b[0m\n",
      "\b\\\u001b[39m ---> 5245244dfb5c\u001b[0m\n",
      "\u001b[39mStep 14/15 : ENTRYPOINT [ \"docker-entrypoint.sh\" ]\u001b[0m\n",
      "\b-\u001b[39m ---> Running in a596521a5479\u001b[0m\n",
      "\b/\u001b[39m ---> 8334a0891e76\u001b[0m\n",
      "\u001b[39mStep 15/15 : CMD [\"bentoml\", \"serve-gunicorn\", \"/bento\"]\u001b[0m\n",
      "\u001b[39m ---> Running in 1594341560fd\u001b[0m\n",
      "\b|\u001b[39m ---> a72753d5177f\u001b[0m\n",
      "\u001b[39mSuccessfully built a72753d5177f\u001b[0m\n",
      "\u001b[39mSuccessfully tagged irisclassifieronnx:20200908210120_30DE0E\u001b[0m\n",
      "\u001b[32mFinished building irisclassifieronnx:20200908210120_30DE0E from IrisClassifierOnnx:latest\u001b[0m\n"
     ]
    }
   ],
   "source": [
    "!bentoml containerize IrisClassifierOnnx:latest"
   ]
  },
  {
   "cell_type": "code",
   "execution_count": null,
   "metadata": {},
   "outputs": [],
   "source": [
    "!docker run --rm -p 5000:5000 irisclassifieronnx"
   ]
  },
  {
   "cell_type": "markdown",
   "metadata": {},
   "source": [
    "## Load saved BentoService\n",
    "\n",
    "bentoml.load is the API for loading a BentoML packaged model in python:"
   ]
  },
  {
   "cell_type": "code",
   "execution_count": null,
   "metadata": {},
   "outputs": [],
   "source": [
    "from bentoml import load\n",
    "\n",
    "\n",
    "svc = load(saved_path)\n",
    "\n",
    "print(svc.predict([[5.1, 3.5, 1.4, 0.2]]))"
   ]
  },
  {
   "cell_type": "markdown",
   "metadata": {},
   "source": [
    "## Launch inference job from CLI\n",
    "\n",
    "BentoML cli supports loading and running a packaged model from CLI. With the DataframeInput adapter, the CLI command supports reading input Dataframe data from CLI argument or local csv or json files:"
   ]
  },
  {
   "cell_type": "code",
   "execution_count": 7,
   "metadata": {},
   "outputs": [
    {
     "name": "stdout",
     "output_type": "stream",
     "text": [
      "[2020-09-08 21:01:31,260] INFO - Getting latest version IrisClassifierOnnx:20200908210120_30DE0E\n",
      "[2020-09-08 21:01:31,299] WARNING - Using BentoML installed in `editable` model, the local BentoML repository including all code changes will be packaged together with saved bundle created, under the './bundled_pip_dependencies' directory of the saved bundle.\n",
      "[2020-09-08 21:01:31,314] WARNING - Saved BentoService bundle version mismatch: loading BentoService bundle create with BentoML version 0.8.6, but loading from BentoML version 0.8.6+36.gab94ebfb\n",
      "[2020-09-08 21:01:31,790] INFO - Initializing onnxruntime InferenceSession from onnx file:'/Users/bozhaoyu/bentoml/repository/IrisClassifierOnnx/20200908210120_30DE0E/IrisClassifierOnnx/artifacts/model.onnx'\n",
      "[0.0, 0.0]\n"
     ]
    }
   ],
   "source": [
    "!bentoml run IrisClassifierOnnx:latest predict --input '[[5.1, 3.5, 1.4, 0.2], [5.1, 3.5, 1.4, 0.2]]'"
   ]
  },
  {
   "cell_type": "markdown",
   "metadata": {},
   "source": [
    "# Deployment Options\n",
    "\n",
    "If you are at a small team with limited engineering or DevOps resources, try out automated deployment with BentoML CLI, currently supporting AWS Lambda, AWS SageMaker, and Azure Functions:\n",
    "- [AWS Lambda Deployment Guide](https://docs.bentoml.org/en/latest/deployment/aws_lambda.html)\n",
    "- [AWS SageMaker Deployment Guide](https://docs.bentoml.org/en/latest/deployment/aws_sagemaker.html)\n",
    "- [Azure Functions Deployment Guide](https://docs.bentoml.org/en/latest/deployment/azure_functions.html)\n",
    "\n",
    "If the cloud platform you are working with is not on the list above, try out these step-by-step guide on manually deploying BentoML packaged model to cloud platforms:\n",
    "- [AWS ECS Deployment](https://docs.bentoml.org/en/latest/deployment/aws_ecs.html)\n",
    "- [Google Cloud Run Deployment](https://docs.bentoml.org/en/latest/deployment/google_cloud_run.html)\n",
    "- [Azure container instance Deployment](https://docs.bentoml.org/en/latest/deployment/azure_container_instance.html)\n",
    "- [Heroku Deployment](https://docs.bentoml.org/en/latest/deployment/heroku.html)\n",
    "\n",
    "Lastly, if you have a DevOps or ML Engineering team who's operating a Kubernetes or OpenShift cluster, use the following guides as references for implementating your deployment strategy:\n",
    "- [Kubernetes Deployment](https://docs.bentoml.org/en/latest/deployment/kubernetes.html)\n",
    "- [Knative Deployment](https://docs.bentoml.org/en/latest/deployment/knative.html)\n",
    "- [Kubeflow Deployment](https://docs.bentoml.org/en/latest/deployment/kubeflow.html)\n",
    "- [KFServing Deployment](https://docs.bentoml.org/en/latest/deployment/kfserving.html)\n",
    "- [Clipper.ai Deployment Guide](https://docs.bentoml.org/en/latest/deployment/clipper.html)"
   ]
  },
  {
   "cell_type": "code",
   "execution_count": null,
   "metadata": {},
   "outputs": [],
   "source": []
  }
 ],
 "metadata": {
  "kernelspec": {
   "display_name": "Python 3",
   "language": "python",
   "name": "python3"
  },
  "language_info": {
   "codemirror_mode": {
    "name": "ipython",
    "version": 3
   },
   "file_extension": ".py",
   "mimetype": "text/x-python",
   "name": "python",
   "nbconvert_exporter": "python",
   "pygments_lexer": "ipython3",
   "version": "3.7.3"
  }
 },
 "nbformat": 4,
 "nbformat_minor": 4
}
