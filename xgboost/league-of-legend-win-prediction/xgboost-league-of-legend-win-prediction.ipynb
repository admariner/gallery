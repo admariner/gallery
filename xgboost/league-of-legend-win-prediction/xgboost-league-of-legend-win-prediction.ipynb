{
 "cells": [
  {
   "cell_type": "markdown",
   "metadata": {},
   "source": [
    "### BentoML Example\n",
    "\n",
    "# XGBoost League of legend Win prediction \n",
    "\n",
    "BentoML is an open-source framework for machine learning **model serving**, aiming to **bridge the gap between Data Science and DevOps.**\n",
    "\n",
    "Data Scientists can easily package their models trained with any ML framework using BentoMl and reproduce the model for serving in production. BentoML helps with managing packaged models in the BentoML format, and allows DevOps to deploy them as online API serving endpoints or offline batch inference jobs, on any cloud platform.\n",
    "\n",
    "Before reading this example project, be sure to check out the [Getting started guide](https://github.com/bentoml/BentoML/blob/master/guides/quick-start/bentoml-quick-start-guide.ipynb) to learn about the basic concepts in BentoML.\n",
    "\n",
    "This is a BentoML Demo Project demonstrating how to train a League of Legend win prdiction model, and use BentoML to package and serve the model for building applictions.\n",
    "\n",
    "\n",
    "Example notebook built based on https://slundberg.github.io/shap/notebooks/League%20of%20Legends%20Win%20Prediction%20with%20XGBoost.html\n",
    "\n",
    "![Impression](https://www.google-analytics.com/collect?v=1&tid=UA-112879361-3&cid=555&t=event&ec=xgboost&ea=xgboost-league-of-legend-win-prediction&dt=xgboost-league-of-legend-win-prediction)"
   ]
  },
  {
   "cell_type": "code",
   "execution_count": null,
   "metadata": {},
   "outputs": [],
   "source": [
    "%reload_ext autoreload\n",
    "%autoreload 2\n",
    "%matplotlib inline\n",
    "\n",
    "import warnings\n",
    "warnings.filterwarnings(\"ignore\")"
   ]
  },
  {
   "cell_type": "code",
   "execution_count": 2,
   "metadata": {
    "scrolled": true
   },
   "outputs": [
    {
     "name": "stdout",
     "output_type": "stream",
     "text": [
      "Requirement already satisfied: bentoml in /opt/anaconda3/lib/python3.7/site-packages (0.8.1+27.g8e155f5.dirty)\n",
      "Requirement already satisfied: requests in /opt/anaconda3/lib/python3.7/site-packages (from bentoml) (2.24.0)\n",
      "Requirement already satisfied: click>=7.0 in /opt/anaconda3/lib/python3.7/site-packages (from bentoml) (7.1.2)\n",
      "Requirement already satisfied: alembic in /opt/anaconda3/lib/python3.7/site-packages (from bentoml) (1.4.0)\n",
      "Requirement already satisfied: cerberus in /opt/anaconda3/lib/python3.7/site-packages (from bentoml) (1.3.2)\n",
      "Requirement already satisfied: prometheus-client in /opt/anaconda3/lib/python3.7/site-packages (from bentoml) (0.8.0)\n",
      "Requirement already satisfied: protobuf>=3.6.0 in /opt/anaconda3/lib/python3.7/site-packages (from bentoml) (3.11.3)\n",
      "Requirement already satisfied: aiohttp in /opt/anaconda3/lib/python3.7/site-packages (from bentoml) (3.6.2)\n",
      "Requirement already satisfied: sqlalchemy-utils in /opt/anaconda3/lib/python3.7/site-packages (from bentoml) (0.36.6)\n",
      "Requirement already satisfied: ruamel.yaml>=0.15.0 in /opt/anaconda3/lib/python3.7/site-packages (from bentoml) (0.16.10)\n",
      "Requirement already satisfied: tabulate in /opt/anaconda3/lib/python3.7/site-packages (from bentoml) (0.8.6)\n",
      "Requirement already satisfied: humanfriendly in /opt/anaconda3/lib/python3.7/site-packages (from bentoml) (7.1.1)\n",
      "Requirement already satisfied: numpy in /opt/anaconda3/lib/python3.7/site-packages (from bentoml) (1.18.5)\n",
      "Requirement already satisfied: packaging in /opt/anaconda3/lib/python3.7/site-packages (from bentoml) (20.4)\n",
      "Requirement already satisfied: psutil in /opt/anaconda3/lib/python3.7/site-packages (from bentoml) (5.7.0)\n",
      "Requirement already satisfied: configparser in /opt/anaconda3/lib/python3.7/site-packages (from bentoml) (4.0.2)\n",
      "Requirement already satisfied: certifi in /opt/anaconda3/lib/python3.7/site-packages (from bentoml) (2020.6.20)\n",
      "Requirement already satisfied: grpcio<=1.27.2 in /opt/anaconda3/lib/python3.7/site-packages (from bentoml) (1.27.2)\n",
      "Requirement already satisfied: flask in /opt/anaconda3/lib/python3.7/site-packages (from bentoml) (1.1.1)\n",
      "Requirement already satisfied: sqlalchemy>=1.3.0 in /opt/anaconda3/lib/python3.7/site-packages (from bentoml) (1.3.9)\n",
      "Requirement already satisfied: python-json-logger in /opt/anaconda3/lib/python3.7/site-packages (from bentoml) (0.1.11)\n",
      "Requirement already satisfied: py-zipkin in /opt/anaconda3/lib/python3.7/site-packages (from bentoml) (0.18.7)\n",
      "Requirement already satisfied: python-dateutil<2.8.1,>=2.1 in /opt/anaconda3/lib/python3.7/site-packages (from bentoml) (2.8.0)\n",
      "Requirement already satisfied: gunicorn in /opt/anaconda3/lib/python3.7/site-packages (from bentoml) (20.0.4)\n",
      "Requirement already satisfied: docker in /opt/anaconda3/lib/python3.7/site-packages (from bentoml) (4.2.0)\n",
      "Requirement already satisfied: boto3 in /opt/anaconda3/lib/python3.7/site-packages (from bentoml) (1.12.9)\n",
      "Requirement already satisfied: chardet<4,>=3.0.2 in /opt/anaconda3/lib/python3.7/site-packages (from requests->bentoml) (3.0.4)\n",
      "Requirement already satisfied: urllib3!=1.25.0,!=1.25.1,<1.26,>=1.21.1 in /opt/anaconda3/lib/python3.7/site-packages (from requests->bentoml) (1.24.3)\n",
      "Requirement already satisfied: idna<3,>=2.5 in /opt/anaconda3/lib/python3.7/site-packages (from requests->bentoml) (2.10)\n",
      "Requirement already satisfied: python-editor>=0.3 in /opt/anaconda3/lib/python3.7/site-packages (from alembic->bentoml) (1.0.4)\n",
      "Requirement already satisfied: Mako in /opt/anaconda3/lib/python3.7/site-packages (from alembic->bentoml) (1.1.1)\n",
      "Requirement already satisfied: setuptools in /opt/anaconda3/lib/python3.7/site-packages (from cerberus->bentoml) (49.1.0.post20200710)\n",
      "Requirement already satisfied: six>=1.9 in /opt/anaconda3/lib/python3.7/site-packages (from protobuf>=3.6.0->bentoml) (1.15.0)\n",
      "Requirement already satisfied: attrs>=17.3.0 in /opt/anaconda3/lib/python3.7/site-packages (from aiohttp->bentoml) (19.3.0)\n",
      "Requirement already satisfied: yarl<2.0,>=1.0 in /opt/anaconda3/lib/python3.7/site-packages (from aiohttp->bentoml) (1.4.2)\n",
      "Requirement already satisfied: multidict<5.0,>=4.5 in /opt/anaconda3/lib/python3.7/site-packages (from aiohttp->bentoml) (4.7.5)\n",
      "Requirement already satisfied: async-timeout<4.0,>=3.0 in /opt/anaconda3/lib/python3.7/site-packages (from aiohttp->bentoml) (3.0.1)\n",
      "Requirement already satisfied: ruamel.yaml.clib>=0.1.2; platform_python_implementation == \"CPython\" and python_version < \"3.9\" in /opt/anaconda3/lib/python3.7/site-packages (from ruamel.yaml>=0.15.0->bentoml) (0.2.0)\n",
      "Requirement already satisfied: pyparsing>=2.0.2 in /opt/anaconda3/lib/python3.7/site-packages (from packaging->bentoml) (2.4.7)\n",
      "Requirement already satisfied: Jinja2>=2.10.1 in /opt/anaconda3/lib/python3.7/site-packages (from flask->bentoml) (2.11.2)\n",
      "Requirement already satisfied: Werkzeug>=0.15 in /opt/anaconda3/lib/python3.7/site-packages (from flask->bentoml) (0.16.0)\n",
      "Requirement already satisfied: itsdangerous>=0.24 in /opt/anaconda3/lib/python3.7/site-packages (from flask->bentoml) (1.1.0)\n",
      "Requirement already satisfied: thriftpy2>=0.4.0 in /opt/anaconda3/lib/python3.7/site-packages (from py-zipkin->bentoml) (0.4.10)\n",
      "Requirement already satisfied: websocket-client>=0.32.0 in /opt/anaconda3/lib/python3.7/site-packages (from docker->bentoml) (0.57.0)\n",
      "Requirement already satisfied: s3transfer<0.4.0,>=0.3.0 in /opt/anaconda3/lib/python3.7/site-packages (from boto3->bentoml) (0.3.3)\n",
      "Requirement already satisfied: jmespath<1.0.0,>=0.7.1 in /opt/anaconda3/lib/python3.7/site-packages (from boto3->bentoml) (0.9.5)\n",
      "Requirement already satisfied: botocore<1.16.0,>=1.15.9 in /opt/anaconda3/lib/python3.7/site-packages (from boto3->bentoml) (1.15.9)\n",
      "Requirement already satisfied: MarkupSafe>=0.9.2 in /opt/anaconda3/lib/python3.7/site-packages (from Mako->alembic->bentoml) (1.1.1)\n",
      "Requirement already satisfied: ply<4.0,>=3.4 in /opt/anaconda3/lib/python3.7/site-packages (from thriftpy2>=0.4.0->py-zipkin->bentoml) (3.11)\n",
      "Requirement already satisfied: docutils<0.16,>=0.10 in /opt/anaconda3/lib/python3.7/site-packages (from botocore<1.16.0,>=1.15.9->boto3->bentoml) (0.15.2)\n",
      "Requirement already satisfied: numpy in /opt/anaconda3/lib/python3.7/site-packages (1.18.5)\n",
      "Requirement already satisfied: xgboost in /opt/anaconda3/lib/python3.7/site-packages (0.90)\n",
      "Requirement already satisfied: sklearn in /opt/anaconda3/lib/python3.7/site-packages (0.0)\n",
      "Requirement already satisfied: matplotlib in /opt/anaconda3/lib/python3.7/site-packages (3.2.2)\n",
      "Requirement already satisfied: kaggle in /opt/anaconda3/lib/python3.7/site-packages (1.5.6)\n",
      "Requirement already satisfied: scipy in /opt/anaconda3/lib/python3.7/site-packages (from xgboost) (1.3.1)\n",
      "Requirement already satisfied: scikit-learn in /opt/anaconda3/lib/python3.7/site-packages (from sklearn) (0.21.3)\n",
      "Requirement already satisfied: cycler>=0.10 in /opt/anaconda3/lib/python3.7/site-packages (from matplotlib) (0.10.0)\n",
      "Requirement already satisfied: python-dateutil>=2.1 in /opt/anaconda3/lib/python3.7/site-packages (from matplotlib) (2.8.0)\n",
      "Requirement already satisfied: kiwisolver>=1.0.1 in /opt/anaconda3/lib/python3.7/site-packages (from matplotlib) (1.1.0)\n",
      "Requirement already satisfied: pyparsing!=2.0.4,!=2.1.2,!=2.1.6,>=2.0.1 in /opt/anaconda3/lib/python3.7/site-packages (from matplotlib) (2.4.7)\n",
      "Requirement already satisfied: urllib3<1.25,>=1.21.1 in /opt/anaconda3/lib/python3.7/site-packages (from kaggle) (1.24.3)\n",
      "Requirement already satisfied: requests in /opt/anaconda3/lib/python3.7/site-packages (from kaggle) (2.24.0)\n",
      "Requirement already satisfied: six>=1.10 in /opt/anaconda3/lib/python3.7/site-packages (from kaggle) (1.15.0)\n",
      "Requirement already satisfied: python-slugify in /opt/anaconda3/lib/python3.7/site-packages (from kaggle) (4.0.1)\n",
      "Requirement already satisfied: tqdm in /home/bentoml/.local/lib/python3.7/site-packages (from kaggle) (4.45.0)\n",
      "Requirement already satisfied: certifi in /opt/anaconda3/lib/python3.7/site-packages (from kaggle) (2020.6.20)\n",
      "Requirement already satisfied: joblib>=0.11 in /opt/anaconda3/lib/python3.7/site-packages (from scikit-learn->sklearn) (0.13.2)\n",
      "Requirement already satisfied: setuptools in /opt/anaconda3/lib/python3.7/site-packages (from kiwisolver>=1.0.1->matplotlib) (49.1.0.post20200710)\n",
      "Requirement already satisfied: idna<3,>=2.5 in /opt/anaconda3/lib/python3.7/site-packages (from requests->kaggle) (2.10)\n",
      "Requirement already satisfied: chardet<4,>=3.0.2 in /opt/anaconda3/lib/python3.7/site-packages (from requests->kaggle) (3.0.4)\n",
      "Requirement already satisfied: text-unidecode>=1.3 in /opt/anaconda3/lib/python3.7/site-packages (from python-slugify->kaggle) (1.3)\n"
     ]
    }
   ],
   "source": [
    "!pip install -q bentoml \"numpy>=1.18.5\" \"xgboost==0.90\" \"scikit-learn>=0.23.0\" \"matplotlib>=3.2.2\" \"kaggle==1.5.6\""
   ]
  },
  {
   "cell_type": "code",
   "execution_count": null,
   "metadata": {},
   "outputs": [],
   "source": [
    "import pandas as pd\n",
    "import numpy as np\n",
    "import xgboost as xgb\n",
    "import matplotlib.pyplot as pl\n",
    "from sklearn.model_selection import train_test_split"
   ]
  },
  {
   "cell_type": "markdown",
   "metadata": {},
   "source": [
    "## Download Data\n",
    "\n",
    "This notebook uses data from kaggle [paololol/league-of-legends-ranked-matches](https://www.kaggle.com/paololol/league-of-legends-ranked-matches)\n",
    "\n",
    "You can set your Kaggle credential below and download the dataset automatically. The kaggle key can be created by going to the 'Account' tab of your user profile (https://www.kaggle.com/<username>/account) and select 'Create API Token'. This will trigger the download of kaggle.json, a file containing your API credentials, and fill it in the cell below.\n",
    "\n",
    "Alternativelly, you can download it manually from [here](https://www.kaggle.com/paololol/league-of-legends-ranked-matches) and place unzip'd data in this folder."
   ]
  },
  {
   "cell_type": "code",
   "execution_count": null,
   "metadata": {
    "scrolled": true
   },
   "outputs": [],
   "source": [
    "%%bash\n",
    "export KAGGLE_USERNAME=\n",
    "export KAGGLE_KEY=\n",
    "\n",
    "if [ ! -f ./league-of-legends-ranked-matches.zip ]; then\n",
    "    kaggle datasets download paololol/league-of-legends-ranked-matches\n",
    "    unzip -n league-of-legends-ranked-matches.zip\n",
    "fi"
   ]
  },
  {
   "cell_type": "markdown",
   "metadata": {},
   "source": [
    "## Load data"
   ]
  },
  {
   "cell_type": "code",
   "execution_count": null,
   "metadata": {},
   "outputs": [],
   "source": [
    "# read in the data\n",
    "matches = pd.read_csv(\"matches.csv\")\n",
    "participants = pd.read_csv(\"participants.csv\")\n",
    "stats1 = pd.read_csv(\"stats1.csv\", low_memory=False)\n",
    "stats2 = pd.read_csv(\"stats2.csv\", low_memory=False)\n",
    "stats = pd.concat([stats1,stats2])\n",
    "\n",
    "# merge into a single DataFrame\n",
    "a = pd.merge(participants, matches, left_on=\"matchid\", right_on=\"id\")\n",
    "allstats_orig = pd.merge(a, stats, left_on=\"matchid\", right_on=\"id\")\n",
    "allstats = allstats_orig.copy()\n",
    "\n",
    "# drop games that lasted less than 10 minutes\n",
    "allstats = allstats.loc[allstats[\"duration\"] >= 10*60,:]\n",
    "\n",
    "# Convert string-based categories to numeric values\n",
    "cat_cols = [\"role\", \"position\", \"version\", \"platformid\"]\n",
    "for c in cat_cols:\n",
    "    allstats[c] = allstats[c].astype('category')\n",
    "    allstats[c] = allstats[c].cat.codes\n",
    "allstats[\"wardsbought\"] = allstats[\"wardsbought\"].astype(np.int32)\n",
    "\n",
    "X = allstats.drop([\"win\"], axis=1)\n",
    "y = allstats[\"win\"]\n",
    "\n",
    "# convert all features we want to consider as rates\n",
    "rate_features = [\n",
    "    \"kills\", \"deaths\", \"assists\", \"killingsprees\", \"doublekills\",\n",
    "    \"triplekills\", \"quadrakills\", \"pentakills\", \"legendarykills\",\n",
    "    \"totdmgdealt\", \"magicdmgdealt\", \"physicaldmgdealt\", \"truedmgdealt\",\n",
    "    \"totdmgtochamp\", \"magicdmgtochamp\", \"physdmgtochamp\", \"truedmgtochamp\",\n",
    "    \"totheal\", \"totunitshealed\", \"dmgtoobj\", \"timecc\", \"totdmgtaken\",\n",
    "    \"magicdmgtaken\" , \"physdmgtaken\", \"truedmgtaken\", \"goldearned\", \"goldspent\",\n",
    "    \"totminionskilled\", \"neutralminionskilled\", \"ownjunglekills\",\n",
    "    \"enemyjunglekills\", \"totcctimedealt\", \"pinksbought\", \"wardsbought\",\n",
    "    \"wardsplaced\", \"wardskilled\"\n",
    "]\n",
    "for feature_name in rate_features:\n",
    "    X[feature_name] /= X[\"duration\"] / 60 # per minute rate\n",
    "\n",
    "# convert to fraction of game\n",
    "X[\"longesttimespentliving\"] /= X[\"duration\"]\n",
    "\n",
    "# define friendly names for the features\n",
    "full_names = {\n",
    "    \"kills\": \"Kills per min.\",\n",
    "    \"deaths\": \"Deaths per min.\",\n",
    "    \"assists\": \"Assists per min.\",\n",
    "    \"killingsprees\": \"Killing sprees per min.\",\n",
    "    \"longesttimespentliving\": \"Longest time living as % of game\",\n",
    "    \"doublekills\": \"Double kills per min.\",\n",
    "    \"triplekills\": \"Triple kills per min.\",\n",
    "    \"quadrakills\": \"Quadra kills per min.\",\n",
    "    \"pentakills\": \"Penta kills per min.\",\n",
    "    \"legendarykills\": \"Legendary kills per min.\",\n",
    "    \"totdmgdealt\": \"Total damage dealt per min.\",\n",
    "    \"magicdmgdealt\": \"Magic damage dealt per min.\",\n",
    "    \"physicaldmgdealt\": \"Physical damage dealt per min.\",\n",
    "    \"truedmgdealt\": \"True damage dealt per min.\",\n",
    "    \"totdmgtochamp\": \"Total damage to champions per min.\",\n",
    "    \"magicdmgtochamp\": \"Magic damage to champions per min.\",\n",
    "    \"physdmgtochamp\": \"Physical damage to champions per min.\",\n",
    "    \"truedmgtochamp\": \"True damage to champions per min.\",\n",
    "    \"totheal\": \"Total healing per min.\",\n",
    "    \"totunitshealed\": \"Total units healed per min.\",\n",
    "    \"dmgtoobj\": \"Damage to objects per min.\",\n",
    "    \"timecc\": \"Time spent with crown control per min.\",\n",
    "    \"totdmgtaken\": \"Total damage taken per min.\",\n",
    "    \"magicdmgtaken\": \"Magic damage taken per min.\",\n",
    "    \"physdmgtaken\": \"Physical damage taken per min.\",\n",
    "    \"truedmgtaken\": \"True damage taken per min.\",\n",
    "    \"goldearned\": \"Gold earned per min.\",\n",
    "    \"goldspent\": \"Gold spent per min.\",\n",
    "    \"totminionskilled\": \"Total minions killed per min.\",\n",
    "    \"neutralminionskilled\": \"Neutral minions killed per min.\",\n",
    "    \"ownjunglekills\": \"Own jungle kills per min.\",\n",
    "    \"enemyjunglekills\": \"Enemy jungle kills per min.\",\n",
    "    \"totcctimedealt\": \"Total crown control time dealt per min.\",\n",
    "    \"pinksbought\": \"Pink wards bought per min.\",\n",
    "    \"wardsbought\": \"Wards bought per min.\",\n",
    "    \"wardsplaced\": \"Wards placed per min.\",\n",
    "    \"turretkills\": \"# of turret kills\",\n",
    "    \"inhibkills\": \"# of inhibitor kills\",\n",
    "    \"dmgtoturrets\": \"Damage to turrets\"\n",
    "}\n",
    "feature_names = [full_names.get(n, n) for n in X.columns]\n",
    "X.columns = feature_names\n",
    "\n",
    "# create train/validation split\n",
    "Xt, Xv, yt, yv = train_test_split(X,y, test_size=0.2, random_state=10)\n",
    "dt = xgb.DMatrix(Xt, label=yt.values)\n",
    "dv = xgb.DMatrix(Xv, label=yv.values)"
   ]
  },
  {
   "cell_type": "markdown",
   "metadata": {},
   "source": [
    "## Train the XGBoost model\n"
   ]
  },
  {
   "cell_type": "code",
   "execution_count": null,
   "metadata": {},
   "outputs": [],
   "source": [
    "params = {\n",
    "    \"eta\": 0.5,\n",
    "    \"max_depth\": 4,\n",
    "    \"objective\": \"binary:logistic\",\n",
    "    \"silent\": 1,\n",
    "    \"base_score\": np.mean(yt),\n",
    "    \"eval_metric\": \"logloss\"\n",
    "}\n",
    "model = xgb.train(params, dt, 100, [(dt, \"train\"),(dv, \"valid\")], early_stopping_rounds=5, verbose_eval=10)"
   ]
  },
  {
   "cell_type": "code",
   "execution_count": null,
   "metadata": {},
   "outputs": [],
   "source": [
    "Xt[:3]"
   ]
  },
  {
   "cell_type": "code",
   "execution_count": null,
   "metadata": {},
   "outputs": [],
   "source": [
    "model.predict(xgb.DMatrix(Xt[:3]))"
   ]
  },
  {
   "cell_type": "markdown",
   "metadata": {},
   "source": [
    "## Create ML service with BentoML"
   ]
  },
  {
   "cell_type": "code",
   "execution_count": null,
   "metadata": {},
   "outputs": [],
   "source": [
    "%%writefile lol_win_predictions.py\n",
    "\n",
    "from bentoml import api, env, BentoService, artifacts\n",
    "from bentoml.artifact import XgboostModelArtifact\n",
    "from bentoml.adapters import DataframeInput\n",
    "\n",
    "import xgboost as xgb\n",
    "\n",
    "@env(pip_dependencies=['xgboost'])\n",
    "@artifacts([XgboostModelArtifact('model')])\n",
    "class LeagueWinPrediction(BentoService):\n",
    "    \n",
    "    @api(input=DataframeInput())\n",
    "    def predict(self, df):\n",
    "        dmatrix = xgb.DMatrix(df)\n",
    "        return self.artifacts.model.predict(dmatrix)"
   ]
  },
  {
   "cell_type": "code",
   "execution_count": null,
   "metadata": {
    "scrolled": true
   },
   "outputs": [],
   "source": [
    "# 1) import the custom BentoService defined above\n",
    "from lol_win_predictions import LeagueWinPrediction\n",
    "\n",
    "# 2) `pack` it with required artifacts\n",
    "bento_svc = LeagueWinPrediction()\n",
    "bento_svc.pack('model', model)\n",
    "\n",
    "# 3) save your BentoSerivce\n",
    "saved_path = bento_svc.save()"
   ]
  },
  {
   "cell_type": "markdown",
   "metadata": {},
   "source": [
    "## REST API Model Serving\n",
    "\n",
    "\n",
    "To start a REST API model server with the BentoService saved above, use the bentoml serve command:"
   ]
  },
  {
   "cell_type": "code",
   "execution_count": 13,
   "metadata": {
    "scrolled": true
   },
   "outputs": [
    {
     "name": "stdout",
     "output_type": "stream",
     "text": [
      "[2020-07-28 14:25:58,983] INFO - Getting latest version LeagueWinPrediction:20200728142310_250EBD\n",
      "[2020-07-28 14:25:59,986] WARNING - Using BentoML installed in `editable` model, the local BentoML repository including all code changes will be packaged together with saved bundle created, under the './bundled_pip_dependencies' directory of the saved bundle.\n",
      "[2020-07-28 14:26:00,020] WARNING - Saved BentoService bundle version mismatch: loading BentoService bundle create with BentoML version 0.8.1, but loading from BentoML version 0.8.1+27.g8e155f5.dirty\n",
      "[2020-07-28 14:26:00,026] WARNING - bentoml.handlers.* will be deprecated after BentoML 1.0, use bentoml.adapters.* instead\n",
      "[2020-07-28 14:26:00,308] WARNING - DataframeHandler will be deprecated after BentoML 1.0, use DataframeInput instead\n",
      " * Serving Flask app \"LeagueWinPrediction\" (lazy loading)\n",
      " * Environment: production\n",
      "\u001b[31m   WARNING: This is a development server. Do not use it in a production deployment.\u001b[0m\n",
      "\u001b[2m   Use a production WSGI server instead.\u001b[0m\n",
      " * Debug mode: off\n",
      " * Running on http://127.0.0.1:5000/ (Press CTRL+C to quit)\n",
      "^C\n"
     ]
    }
   ],
   "source": [
    "!bentoml serve LeagueWinPrediction:latest"
   ]
  },
  {
   "cell_type": "markdown",
   "metadata": {},
   "source": [
    "If you are running this notebook from Google Colab, you can start the dev server with `--run-with-ngrok` option, to gain acccess to the API endpoint via a public endpoint managed by [ngrok](https://ngrok.com/):"
   ]
  },
  {
   "cell_type": "code",
   "execution_count": null,
   "metadata": {},
   "outputs": [],
   "source": [
    "!bentoml serve LeagueWinPrediction:latest --run-with-ngrok"
   ]
  },
  {
   "cell_type": "markdown",
   "metadata": {},
   "source": [
    "### Make requeset to the REST server\n",
    "\n",
    "*After navigate to the location of this notebook, copy and paste the following code to your terminal and run it to make request*\n",
    "\n",
    "```bash\n",
    "curl -i \\\n",
    "--request POST \\\n",
    "--header \"Content-Type: text/csv\" \\\n",
    "-d @test.csv \\\n",
    "localhost:5000/predict\n",
    "```"
   ]
  },
  {
   "cell_type": "markdown",
   "metadata": {},
   "source": [
    "## Containerize model server with Docker\n",
    "\n",
    "\n",
    "One common way of distributing this model API server for production deployment, is via Docker containers. And BentoML provides a convenient way to do that.\n",
    "\n",
    "Note that docker is **note available in Google Colab**. You will need to download and run this notebook locally to try out this containerization with docker feature.\n",
    "\n",
    "If you already have docker configured, simply run the follow command to product a docker container serving the IrisClassifier prediction service created above:"
   ]
  },
  {
   "cell_type": "code",
   "execution_count": null,
   "metadata": {},
   "outputs": [],
   "source": [
    "!bentoml containerize LeagueWinPrediction:latest"
   ]
  },
  {
   "cell_type": "code",
   "execution_count": null,
   "metadata": {},
   "outputs": [],
   "source": [
    "!docker run --rm -p 5000:5000 leaguwinprediction"
   ]
  },
  {
   "cell_type": "markdown",
   "metadata": {},
   "source": [
    "## Load saved BentoService\n",
    "\n",
    "bentoml.load is the API for loading a BentoML packaged model in python: "
   ]
  },
  {
   "cell_type": "code",
   "execution_count": null,
   "metadata": {},
   "outputs": [],
   "source": [
    "from bentoml import load\n",
    "\n",
    "svc = load(saved_path)\n",
    "\n",
    "print(svc.predict(Xt[:3]))"
   ]
  },
  {
   "cell_type": "markdown",
   "metadata": {},
   "source": [
    "## Launch inference job from CLI\n",
    "\n",
    "BentoML cli supports loading and running a packaged model from CLI. With the DataframeInput adapter, the CLI command supports reading input Dataframe data from CLI argument or local csv or json files:"
   ]
  },
  {
   "cell_type": "code",
   "execution_count": null,
   "metadata": {},
   "outputs": [],
   "source": [
    "Xt[:3].to_csv('test.csv')"
   ]
  },
  {
   "cell_type": "code",
   "execution_count": null,
   "metadata": {},
   "outputs": [],
   "source": [
    "!bentoml run LeagueWinPrediction:latest predict --input test.csv"
   ]
  },
  {
   "cell_type": "markdown",
   "metadata": {},
   "source": [
    "# Deployment Options\n",
    "\n",
    "If you are at a small team with limited engineering or DevOps resources, try out automated deployment with BentoML CLI, currently supporting AWS Lambda, AWS SageMaker, and Azure Functions:\n",
    "- [AWS Lambda Deployment Guide](https://docs.bentoml.org/en/latest/deployment/aws_lambda.html)\n",
    "- [AWS SageMaker Deployment Guide](https://docs.bentoml.org/en/latest/deployment/aws_sagemaker.html)\n",
    "- [Azure Functions Deployment Guide](https://docs.bentoml.org/en/latest/deployment/azure_functions.html)\n",
    "\n",
    "If the cloud platform you are working with is not on the list above, try out these step-by-step guide on manually deploying BentoML packaged model to cloud platforms:\n",
    "- [AWS ECS Deployment](https://docs.bentoml.org/en/latest/deployment/aws_ecs.html)\n",
    "- [Google Cloud Run Deployment](https://docs.bentoml.org/en/latest/deployment/google_cloud_run.html)\n",
    "- [Azure container instance Deployment](https://docs.bentoml.org/en/latest/deployment/azure_container_instance.html)\n",
    "- [Heroku Deployment](https://docs.bentoml.org/en/latest/deployment/heroku.html)\n",
    "\n",
    "Lastly, if you have a DevOps or ML Engineering team who's operating a Kubernetes or OpenShift cluster, use the following guides as references for implementating your deployment strategy:\n",
    "- [Kubernetes Deployment](https://docs.bentoml.org/en/latest/deployment/kubernetes.html)\n",
    "- [Knative Deployment](https://docs.bentoml.org/en/latest/deployment/knative.html)\n",
    "- [Kubeflow Deployment](https://docs.bentoml.org/en/latest/deployment/kubeflow.html)\n",
    "- [KFServing Deployment](https://docs.bentoml.org/en/latest/deployment/kfserving.html)\n",
    "- [Clipper.ai Deployment Guide](https://docs.bentoml.org/en/latest/deployment/clipper.html)"
   ]
  },
  {
   "cell_type": "code",
   "execution_count": null,
   "metadata": {},
   "outputs": [],
   "source": []
  }
 ],
 "metadata": {
  "kernelspec": {
   "display_name": "Python 3",
   "language": "python",
   "name": "python3"
  },
  "language_info": {
   "codemirror_mode": {
    "name": "ipython",
    "version": 3
   },
   "file_extension": ".py",
   "mimetype": "text/x-python",
   "name": "python",
   "nbconvert_exporter": "python",
   "pygments_lexer": "ipython3",
   "version": "3.7.3"
  }
 },
 "nbformat": 4,
 "nbformat_minor": 4
}
